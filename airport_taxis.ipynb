{
 "cells": [
  {
   "cell_type": "markdown",
   "metadata": {},
   "source": [
    "# Project description\n",
    "\n",
    "Sweet Lift Taxi company has collected historical data on taxi orders at airports. To attract more drivers during peak hours, we need to predict the amount of taxi orders for the next hour. Build a model for such a prediction.\n",
    "\n",
    "The RMSE metric on the test set should not be more than 48.\n",
    "\n",
    "## Project instructions\n",
    "\n",
    "1. Download the data and resample it by one hour.\n",
    "2. Analyze the data.\n",
    "3. Train different models with different hyperparameters. The test sample should be 10% of the initial dataset. \n",
    "4. Test the data using the test sample and provide a conclusion.\n",
    "\n",
    "## Data description\n",
    "\n",
    "The data is stored in file `taxi.csv`. The number of orders is in the '*num_orders*' column."
   ]
  },
  {
   "cell_type": "markdown",
   "metadata": {},
   "source": [
    "## Preparation"
   ]
  },
  {
   "cell_type": "code",
   "execution_count": 1,
   "metadata": {
    "trusted": true
   },
   "outputs": [],
   "source": [
    "import pandas as pd\n",
    "import numpy as np\n",
    "import lightgbm as lgb\n",
    "\n",
    "from matplotlib import pyplot as plt\n",
    "from sklearn.model_selection import train_test_split, RandomizedSearchCV, TimeSeriesSplit, GridSearchCV\n",
    "from sklearn.metrics import mean_squared_error\n",
    "from statsmodels.tsa.seasonal import seasonal_decompose\n",
    "from sklearn.linear_model import LinearRegression\n",
    "from sklearn.ensemble import RandomForestRegressor\n",
    "from statsmodels.tsa.arima.model import ARIMA\n",
    "from statsmodels.tsa.stattools import arma_order_select_ic\n",
    "from sklearn.preprocessing import OrdinalEncoder, OneHotEncoder\n",
    "from sklearn.dummy import DummyRegressor"
   ]
  },
  {
   "cell_type": "code",
   "execution_count": 2,
   "metadata": {
    "trusted": true
   },
   "outputs": [],
   "source": [
    "df = pd.read_csv('C:/Users/cmram/Downloads/taxi.csv', parse_dates=[0], index_col=[0])"
   ]
  },
  {
   "cell_type": "code",
   "execution_count": 3,
   "metadata": {
    "trusted": true
   },
   "outputs": [
    {
     "data": {
      "text/html": [
       "<div>\n",
       "<style scoped>\n",
       "    .dataframe tbody tr th:only-of-type {\n",
       "        vertical-align: middle;\n",
       "    }\n",
       "\n",
       "    .dataframe tbody tr th {\n",
       "        vertical-align: top;\n",
       "    }\n",
       "\n",
       "    .dataframe thead th {\n",
       "        text-align: right;\n",
       "    }\n",
       "</style>\n",
       "<table border=\"1\" class=\"dataframe\">\n",
       "  <thead>\n",
       "    <tr style=\"text-align: right;\">\n",
       "      <th></th>\n",
       "      <th>num_orders</th>\n",
       "    </tr>\n",
       "    <tr>\n",
       "      <th>datetime</th>\n",
       "      <th></th>\n",
       "    </tr>\n",
       "  </thead>\n",
       "  <tbody>\n",
       "    <tr>\n",
       "      <th>2018-03-01 00:00:00</th>\n",
       "      <td>124</td>\n",
       "    </tr>\n",
       "    <tr>\n",
       "      <th>2018-03-01 01:00:00</th>\n",
       "      <td>85</td>\n",
       "    </tr>\n",
       "    <tr>\n",
       "      <th>2018-03-01 02:00:00</th>\n",
       "      <td>71</td>\n",
       "    </tr>\n",
       "    <tr>\n",
       "      <th>2018-03-01 03:00:00</th>\n",
       "      <td>66</td>\n",
       "    </tr>\n",
       "    <tr>\n",
       "      <th>2018-03-01 04:00:00</th>\n",
       "      <td>43</td>\n",
       "    </tr>\n",
       "    <tr>\n",
       "      <th>2018-03-01 05:00:00</th>\n",
       "      <td>6</td>\n",
       "    </tr>\n",
       "    <tr>\n",
       "      <th>2018-03-01 06:00:00</th>\n",
       "      <td>12</td>\n",
       "    </tr>\n",
       "    <tr>\n",
       "      <th>2018-03-01 07:00:00</th>\n",
       "      <td>15</td>\n",
       "    </tr>\n",
       "    <tr>\n",
       "      <th>2018-03-01 08:00:00</th>\n",
       "      <td>34</td>\n",
       "    </tr>\n",
       "    <tr>\n",
       "      <th>2018-03-01 09:00:00</th>\n",
       "      <td>69</td>\n",
       "    </tr>\n",
       "  </tbody>\n",
       "</table>\n",
       "</div>"
      ],
      "text/plain": [
       "                     num_orders\n",
       "datetime                       \n",
       "2018-03-01 00:00:00         124\n",
       "2018-03-01 01:00:00          85\n",
       "2018-03-01 02:00:00          71\n",
       "2018-03-01 03:00:00          66\n",
       "2018-03-01 04:00:00          43\n",
       "2018-03-01 05:00:00           6\n",
       "2018-03-01 06:00:00          12\n",
       "2018-03-01 07:00:00          15\n",
       "2018-03-01 08:00:00          34\n",
       "2018-03-01 09:00:00          69"
      ]
     },
     "metadata": {},
     "output_type": "display_data"
    },
    {
     "name": "stdout",
     "output_type": "stream",
     "text": [
      "<class 'pandas.core.frame.DataFrame'>\n",
      "DatetimeIndex: 4416 entries, 2018-03-01 00:00:00 to 2018-08-31 23:00:00\n",
      "Freq: H\n",
      "Data columns (total 1 columns):\n",
      " #   Column      Non-Null Count  Dtype\n",
      "---  ------      --------------  -----\n",
      " 0   num_orders  4416 non-null   int64\n",
      "dtypes: int64(1)\n",
      "memory usage: 69.0 KB\n"
     ]
    },
    {
     "data": {
      "text/plain": [
       "None"
      ]
     },
     "metadata": {},
     "output_type": "display_data"
    },
    {
     "data": {
      "text/html": [
       "<div>\n",
       "<style scoped>\n",
       "    .dataframe tbody tr th:only-of-type {\n",
       "        vertical-align: middle;\n",
       "    }\n",
       "\n",
       "    .dataframe tbody tr th {\n",
       "        vertical-align: top;\n",
       "    }\n",
       "\n",
       "    .dataframe thead th {\n",
       "        text-align: right;\n",
       "    }\n",
       "</style>\n",
       "<table border=\"1\" class=\"dataframe\">\n",
       "  <thead>\n",
       "    <tr style=\"text-align: right;\">\n",
       "      <th></th>\n",
       "      <th>num_orders</th>\n",
       "    </tr>\n",
       "  </thead>\n",
       "  <tbody>\n",
       "    <tr>\n",
       "      <th>count</th>\n",
       "      <td>4416.000000</td>\n",
       "    </tr>\n",
       "    <tr>\n",
       "      <th>mean</th>\n",
       "      <td>84.422781</td>\n",
       "    </tr>\n",
       "    <tr>\n",
       "      <th>std</th>\n",
       "      <td>45.023853</td>\n",
       "    </tr>\n",
       "    <tr>\n",
       "      <th>min</th>\n",
       "      <td>0.000000</td>\n",
       "    </tr>\n",
       "    <tr>\n",
       "      <th>25%</th>\n",
       "      <td>54.000000</td>\n",
       "    </tr>\n",
       "    <tr>\n",
       "      <th>50%</th>\n",
       "      <td>78.000000</td>\n",
       "    </tr>\n",
       "    <tr>\n",
       "      <th>75%</th>\n",
       "      <td>107.000000</td>\n",
       "    </tr>\n",
       "    <tr>\n",
       "      <th>max</th>\n",
       "      <td>462.000000</td>\n",
       "    </tr>\n",
       "  </tbody>\n",
       "</table>\n",
       "</div>"
      ],
      "text/plain": [
       "        num_orders\n",
       "count  4416.000000\n",
       "mean     84.422781\n",
       "std      45.023853\n",
       "min       0.000000\n",
       "25%      54.000000\n",
       "50%      78.000000\n",
       "75%     107.000000\n",
       "max     462.000000"
      ]
     },
     "metadata": {},
     "output_type": "display_data"
    }
   ],
   "source": [
    "df.sort_index(inplace=True)\n",
    "df = df.resample('1H').sum()\n",
    "display(df.head(10))\n",
    "display(df.info())\n",
    "display(df.describe())"
   ]
  },
  {
   "cell_type": "code",
   "execution_count": 4,
   "metadata": {
    "trusted": true
   },
   "outputs": [
    {
     "data": {
      "text/plain": [
       "num_orders    0\n",
       "dtype: int64"
      ]
     },
     "execution_count": 4,
     "metadata": {},
     "output_type": "execute_result"
    }
   ],
   "source": [
    "df.isna().sum()"
   ]
  },
  {
   "cell_type": "code",
   "execution_count": 5,
   "metadata": {
    "trusted": true
   },
   "outputs": [
    {
     "data": {
      "text/plain": [
       "4165"
      ]
     },
     "execution_count": 5,
     "metadata": {},
     "output_type": "execute_result"
    }
   ],
   "source": [
    "df.duplicated().sum()"
   ]
  },
  {
   "cell_type": "code",
   "execution_count": 6,
   "metadata": {
    "trusted": true
   },
   "outputs": [
    {
     "data": {
      "text/plain": [
       "<Axes: xlabel='datetime'>"
      ]
     },
     "execution_count": 6,
     "metadata": {},
     "output_type": "execute_result"
    },
    {
     "data": {
      "image/png": "[encoded data removed]",
      "text/plain": [
       "<Figure size 640x480 with 1 Axes>"
      ]
     },
     "metadata": {},
     "output_type": "display_data"
    }
   ],
   "source": [
    "df.plot()"
   ]
  },
  {
   "cell_type": "code",
   "execution_count": 7,
   "metadata": {
    "scrolled": false,
    "trusted": true
   },
   "outputs": [
    {
     "data": {
      "image/png": "[encoded data removed]",
      "text/plain": [
       "<Figure size 640x480 with 1 Axes>"
      ]
     },
     "metadata": {},
     "output_type": "display_data"
    }
   ],
   "source": [
    "df.boxplot()\n",
    "\n",
    "plt.title('Boxplot for numbers of taxis')\n",
    "plt.ylabel('Count')\n",
    "plt.show()"
   ]
  },
  {
   "cell_type": "code",
   "execution_count": 8,
   "metadata": {
    "trusted": true
   },
   "outputs": [
    {
     "name": "stdout",
     "output_type": "stream",
     "text": [
      "Number of Outliers: 59\n"
     ]
    }
   ],
   "source": [
    "Q1 = df['num_orders'].quantile(0.25)\n",
    "Q3 = df['num_orders'].quantile(0.75)\n",
    "IQR = Q3 - Q1\n",
    "\n",
    "# Define outliers\n",
    "lower_bound = Q1 - 2 * IQR\n",
    "upper_bound = Q3 + 2 * IQR\n",
    "\n",
    "outliers = df[(df['num_orders'] < lower_bound) | (df['num_orders'] > upper_bound)]\n",
    "\n",
    "print(f\"Number of Outliers: {len(outliers)}\")"
   ]
  },
  {
   "cell_type": "code",
   "execution_count": 9,
   "metadata": {
    "scrolled": true,
    "trusted": true
   },
   "outputs": [
    {
     "name": "stdout",
     "output_type": "stream",
     "text": [
      "Data after Replacing Outliers:\n",
      "         num_orders\n",
      "count  4396.000000\n",
      "mean     83.453822\n",
      "std      42.563995\n",
      "min       0.000000\n",
      "25%      54.000000\n",
      "50%      78.000000\n",
      "75%     107.000000\n",
      "max     249.000000\n"
     ]
    }
   ],
   "source": [
    "df = df[(df['num_orders'] <= 250)]\n",
    "\n",
    "print(\"Data after Replacing Outliers:\\n\", df.describe())"
   ]
  },
  {
   "cell_type": "markdown",
   "metadata": {},
   "source": [
    "Removed any outliers above 250. 250 taxis in 1 hour still seems high but could be possible on holidays at a busy airport"
   ]
  },
  {
   "cell_type": "markdown",
   "metadata": {},
   "source": [
    "## Analysis"
   ]
  },
  {
   "cell_type": "code",
   "execution_count": 10,
   "metadata": {
    "trusted": true
   },
   "outputs": [
    {
     "data": {
      "image/png": "[encoded data removed]",
      "text/plain": [
       "<Figure size 800x800 with 3 Axes>"
      ]
     },
     "metadata": {},
     "output_type": "display_data"
    }
   ],
   "source": [
    "decomposed = seasonal_decompose(df, period = 24)\n",
    "\n",
    "plt.figure(figsize=(8, 8))\n",
    "plt.subplot(311)\n",
    "decomposed.trend.plot(ax=plt.gca())\n",
    "plt.title('Trend')\n",
    "plt.subplot(312)\n",
    "decomposed.seasonal.plot(ax=plt.gca())\n",
    "plt.title('Seasonality')\n",
    "plt.subplot(313)\n",
    "decomposed.resid.plot(ax=plt.gca())\n",
    "plt.title('Residuals')\n",
    "\n",
    "plt.tight_layout()"
   ]
  },
  {
   "cell_type": "markdown",
   "metadata": {},
   "source": [
    "We see our trend is there is more drivers needed the closer to summer you get."
   ]
  },
  {
   "cell_type": "code",
   "execution_count": 11,
   "metadata": {
    "trusted": true
   },
   "outputs": [
    {
     "name": "stderr",
     "output_type": "stream",
     "text": [
      "C:\\Users\\cmram\\AppData\\Local\\Temp\\ipykernel_18508\\1787191843.py:1: SettingWithCopyWarning: \n",
      "A value is trying to be set on a copy of a slice from a DataFrame.\n",
      "Try using .loc[row_indexer,col_indexer] = value instead\n",
      "\n",
      "See the caveats in the documentation: https://pandas.pydata.org/pandas-docs/stable/user_guide/indexing.html#returning-a-view-versus-a-copy\n",
      "  df['mean'] = df['num_orders'].shift(1).rolling(4).mean()\n",
      "C:\\Users\\cmram\\AppData\\Local\\Temp\\ipykernel_18508\\1787191843.py:2: SettingWithCopyWarning: \n",
      "A value is trying to be set on a copy of a slice from a DataFrame.\n",
      "Try using .loc[row_indexer,col_indexer] = value instead\n",
      "\n",
      "See the caveats in the documentation: https://pandas.pydata.org/pandas-docs/stable/user_guide/indexing.html#returning-a-view-versus-a-copy\n",
      "  df['std'] = df['num_orders'].shift(1).rolling(24).std()\n"
     ]
    },
    {
     "data": {
      "text/plain": [
       "<Axes: xlabel='datetime'>"
      ]
     },
     "execution_count": 11,
     "metadata": {},
     "output_type": "execute_result"
    },
    {
     "data": {
      "image/png": "[encoded data removed]",
      "text/plain": [
       "<Figure size 640x480 with 1 Axes>"
      ]
     },
     "metadata": {},
     "output_type": "display_data"
    }
   ],
   "source": [
    "df['mean'] = df['num_orders'].shift(1).rolling(4).mean()\n",
    "df['std'] = df['num_orders'].shift(1).rolling(24).std()\n",
    "df.plot()"
   ]
  },
  {
   "cell_type": "markdown",
   "metadata": {},
   "source": [
    "The mean follows the increasing trend. \n",
    "\n",
    "The standard deviation grows over time, suggesting increased variability in order numbers as time progresses."
   ]
  },
  {
   "cell_type": "code",
   "execution_count": 12,
   "metadata": {
    "trusted": true
   },
   "outputs": [
    {
     "data": {
      "text/plain": [
       "<Axes: xlabel='datetime'>"
      ]
     },
     "execution_count": 12,
     "metadata": {},
     "output_type": "execute_result"
    },
    {
     "data": {
      "image/png": "[encoded data removed]",
      "text/plain": [
       "<Figure size 640x480 with 1 Axes>"
      ]
     },
     "metadata": {},
     "output_type": "display_data"
    }
   ],
   "source": [
    "decomposed.seasonal['2018-07-01':'2018-07-15'].plot()"
   ]
  },
  {
   "cell_type": "markdown",
   "metadata": {},
   "source": [
    "This shows a repeating pattern within each day, indicating a strong daily seasonality.This shows our taxi orders peak during rush hour and decreases late at night."
   ]
  },
  {
   "cell_type": "code",
   "execution_count": 13,
   "metadata": {
    "trusted": true
   },
   "outputs": [
    {
     "name": "stdout",
     "output_type": "stream",
     "text": [
      "                     num_orders  mean  std  hour  month  day  dayofweek  \\\n",
      "datetime                                                                  \n",
      "2018-03-01 00:00:00         124   NaN  NaN     0      3    1          3   \n",
      "2018-03-01 01:00:00          85   NaN  NaN     1      3    1          3   \n",
      "2018-03-01 02:00:00          71   NaN  NaN     2      3    1          3   \n",
      "2018-03-01 03:00:00          66   NaN  NaN     3      3    1          3   \n",
      "2018-03-01 04:00:00          43  86.5  NaN     4      3    1          3   \n",
      "\n",
      "                     lag_1  lag_2  lag_3  lag_4  rolling_mean  \n",
      "datetime                                                       \n",
      "2018-03-01 00:00:00    NaN    NaN    NaN    NaN           NaN  \n",
      "2018-03-01 01:00:00  124.0    NaN    NaN    NaN           NaN  \n",
      "2018-03-01 02:00:00   85.0  124.0    NaN    NaN           NaN  \n",
      "2018-03-01 03:00:00   71.0   85.0  124.0    NaN           NaN  \n",
      "2018-03-01 04:00:00   66.0   71.0   85.0  124.0          86.5  \n"
     ]
    },
    {
     "name": "stderr",
     "output_type": "stream",
     "text": [
      "C:\\Users\\cmram\\AppData\\Local\\Temp\\ipykernel_18508\\247691582.py:2: SettingWithCopyWarning: \n",
      "A value is trying to be set on a copy of a slice from a DataFrame.\n",
      "Try using .loc[row_indexer,col_indexer] = value instead\n",
      "\n",
      "See the caveats in the documentation: https://pandas.pydata.org/pandas-docs/stable/user_guide/indexing.html#returning-a-view-versus-a-copy\n",
      "  df['hour'] = df.index.hour\n",
      "C:\\Users\\cmram\\AppData\\Local\\Temp\\ipykernel_18508\\247691582.py:3: SettingWithCopyWarning: \n",
      "A value is trying to be set on a copy of a slice from a DataFrame.\n",
      "Try using .loc[row_indexer,col_indexer] = value instead\n",
      "\n",
      "See the caveats in the documentation: https://pandas.pydata.org/pandas-docs/stable/user_guide/indexing.html#returning-a-view-versus-a-copy\n",
      "  df['month'] = df.index.month\n",
      "C:\\Users\\cmram\\AppData\\Local\\Temp\\ipykernel_18508\\247691582.py:4: SettingWithCopyWarning: \n",
      "A value is trying to be set on a copy of a slice from a DataFrame.\n",
      "Try using .loc[row_indexer,col_indexer] = value instead\n",
      "\n",
      "See the caveats in the documentation: https://pandas.pydata.org/pandas-docs/stable/user_guide/indexing.html#returning-a-view-versus-a-copy\n",
      "  df['day'] = df.index.day\n",
      "C:\\Users\\cmram\\AppData\\Local\\Temp\\ipykernel_18508\\247691582.py:5: SettingWithCopyWarning: \n",
      "A value is trying to be set on a copy of a slice from a DataFrame.\n",
      "Try using .loc[row_indexer,col_indexer] = value instead\n",
      "\n",
      "See the caveats in the documentation: https://pandas.pydata.org/pandas-docs/stable/user_guide/indexing.html#returning-a-view-versus-a-copy\n",
      "  df['dayofweek'] = df.index.dayofweek\n",
      "C:\\Users\\cmram\\AppData\\Local\\Temp\\ipykernel_18508\\247691582.py:8: SettingWithCopyWarning: \n",
      "A value is trying to be set on a copy of a slice from a DataFrame.\n",
      "Try using .loc[row_indexer,col_indexer] = value instead\n",
      "\n",
      "See the caveats in the documentation: https://pandas.pydata.org/pandas-docs/stable/user_guide/indexing.html#returning-a-view-versus-a-copy\n",
      "  df['lag_{}'.format(lag)] = df['num_orders'].shift(lag)\n",
      "C:\\Users\\cmram\\AppData\\Local\\Temp\\ipykernel_18508\\247691582.py:8: SettingWithCopyWarning: \n",
      "A value is trying to be set on a copy of a slice from a DataFrame.\n",
      "Try using .loc[row_indexer,col_indexer] = value instead\n",
      "\n",
      "See the caveats in the documentation: https://pandas.pydata.org/pandas-docs/stable/user_guide/indexing.html#returning-a-view-versus-a-copy\n",
      "  df['lag_{}'.format(lag)] = df['num_orders'].shift(lag)\n",
      "C:\\Users\\cmram\\AppData\\Local\\Temp\\ipykernel_18508\\247691582.py:8: SettingWithCopyWarning: \n",
      "A value is trying to be set on a copy of a slice from a DataFrame.\n",
      "Try using .loc[row_indexer,col_indexer] = value instead\n",
      "\n",
      "See the caveats in the documentation: https://pandas.pydata.org/pandas-docs/stable/user_guide/indexing.html#returning-a-view-versus-a-copy\n",
      "  df['lag_{}'.format(lag)] = df['num_orders'].shift(lag)\n",
      "C:\\Users\\cmram\\AppData\\Local\\Temp\\ipykernel_18508\\247691582.py:8: SettingWithCopyWarning: \n",
      "A value is trying to be set on a copy of a slice from a DataFrame.\n",
      "Try using .loc[row_indexer,col_indexer] = value instead\n",
      "\n",
      "See the caveats in the documentation: https://pandas.pydata.org/pandas-docs/stable/user_guide/indexing.html#returning-a-view-versus-a-copy\n",
      "  df['lag_{}'.format(lag)] = df['num_orders'].shift(lag)\n",
      "C:\\Users\\cmram\\AppData\\Local\\Temp\\ipykernel_18508\\247691582.py:10: SettingWithCopyWarning: \n",
      "A value is trying to be set on a copy of a slice from a DataFrame.\n",
      "Try using .loc[row_indexer,col_indexer] = value instead\n",
      "\n",
      "See the caveats in the documentation: https://pandas.pydata.org/pandas-docs/stable/user_guide/indexing.html#returning-a-view-versus-a-copy\n",
      "  df['rolling_mean'] = (\n"
     ]
    }
   ],
   "source": [
    "def make_features(df, max_lag, rolling_mean_size):\n",
    "    df['hour'] = df.index.hour\n",
    "    df['month'] = df.index.month\n",
    "    df['day'] = df.index.day\n",
    "    df['dayofweek'] = df.index.dayofweek\n",
    "    \n",
    "    for lag in range(1, max_lag + 1):\n",
    "        df['lag_{}'.format(lag)] = df['num_orders'].shift(lag)\n",
    "\n",
    "    df['rolling_mean'] = (\n",
    "        df['num_orders'].shift().rolling(rolling_mean_size).mean()\n",
    "    )\n",
    "\n",
    "make_features(df, 4, 4)\n",
    "print(df.head())"
   ]
  },
  {
   "cell_type": "code",
   "execution_count": 14,
   "metadata": {
    "trusted": true
   },
   "outputs": [
    {
     "data": {
      "text/plain": [
       "num_orders       0\n",
       "mean             4\n",
       "std             24\n",
       "hour             0\n",
       "month            0\n",
       "day              0\n",
       "dayofweek        0\n",
       "lag_1            1\n",
       "lag_2            2\n",
       "lag_3            3\n",
       "lag_4            4\n",
       "rolling_mean     4\n",
       "dtype: int64"
      ]
     },
     "execution_count": 14,
     "metadata": {},
     "output_type": "execute_result"
    }
   ],
   "source": [
    "df.isna().sum()"
   ]
  },
  {
   "cell_type": "code",
   "execution_count": 15,
   "metadata": {
    "trusted": true
   },
   "outputs": [],
   "source": [
    "df = df.dropna()"
   ]
  },
  {
   "cell_type": "code",
   "execution_count": 16,
   "metadata": {
    "trusted": true
   },
   "outputs": [
    {
     "data": {
      "text/plain": [
       "num_orders      0\n",
       "mean            0\n",
       "std             0\n",
       "hour            0\n",
       "month           0\n",
       "day             0\n",
       "dayofweek       0\n",
       "lag_1           0\n",
       "lag_2           0\n",
       "lag_3           0\n",
       "lag_4           0\n",
       "rolling_mean    0\n",
       "dtype: int64"
      ]
     },
     "execution_count": 16,
     "metadata": {},
     "output_type": "execute_result"
    }
   ],
   "source": [
    "df.isna().sum()"
   ]
  },
  {
   "cell_type": "markdown",
   "metadata": {},
   "source": [
    "## Training"
   ]
  },
  {
   "cell_type": "code",
   "execution_count": 17,
   "metadata": {
    "trusted": true
   },
   "outputs": [],
   "source": [
    "features = df.drop(['num_orders'], axis=1)\n",
    "target = df['num_orders']"
   ]
  },
  {
   "cell_type": "code",
   "execution_count": 18,
   "metadata": {
    "trusted": true
   },
   "outputs": [
    {
     "name": "stdout",
     "output_type": "stream",
     "text": [
      "2018-03-02 00:00:00 2018-07-25 18:00:00\n",
      "2018-07-25 19:00:00 2018-08-12 23:00:00\n",
      "2018-08-13 00:00:00 2018-08-31 23:00:00\n"
     ]
    }
   ],
   "source": [
    "features_train, features_combine, target_train, target_combine = train_test_split(features,target, \n",
    "                                              train_size=0.8, \n",
    "                                              random_state=12345,\n",
    "                                              shuffle=False) \n",
    "\n",
    "features_val, features_test, target_val, target_test = train_test_split(features_combine, \n",
    "                                                target_combine, \n",
    "                                                test_size=0.5, \n",
    "                                                random_state=12345,\n",
    "                                                shuffle=False) \n",
    "\n",
    "print(features_train.index.min(), features_train.index.max())\n",
    "\n",
    "print(features_val.index.min(), features_val.index.max())\n",
    "\n",
    "print(features_test.index.min(), features_test.index.max())"
   ]
  },
  {
   "cell_type": "markdown",
   "metadata": {},
   "source": [
    "**Linear Regression**"
   ]
  },
  {
   "cell_type": "code",
   "execution_count": 19,
   "metadata": {
    "scrolled": false,
    "trusted": true
   },
   "outputs": [
    {
     "name": "stdout",
     "output_type": "stream",
     "text": [
      "RMSE for the training set: 28.666330896492333\n",
      "RMSE for the val set:  38.398124683434574\n"
     ]
    }
   ],
   "source": [
    "combined_train = features_train.join(target_train).dropna()\n",
    "\n",
    "features_train_clean = combined_train.drop(columns='num_orders')\n",
    "target_train_clean = combined_train['num_orders']\n",
    "\n",
    "lr_model = LinearRegression()\n",
    "\n",
    "lr_model.fit(features_train_clean, target_train_clean)\n",
    "\n",
    "pred_train = lr_model.predict(features_train_clean)\n",
    "pred_val = lr_model.predict(features_val.dropna())  \n",
    "\n",
    "print(\"RMSE for the training set:\", mean_squared_error(target_train_clean, pred_train, squared=False))\n",
    "print(\"RMSE for the val set: \", mean_squared_error(target_val.dropna(), pred_val, squared=False))"
   ]
  },
  {
   "cell_type": "markdown",
   "metadata": {},
   "source": [
    "A good model to look at for reference as to how other models compare"
   ]
  },
  {
   "cell_type": "markdown",
   "metadata": {},
   "source": [
    "**AutoRegression**"
   ]
  },
  {
   "cell_type": "code",
   "execution_count": 20,
   "metadata": {
    "trusted": true
   },
   "outputs": [
    {
     "name": "stderr",
     "output_type": "stream",
     "text": [
      "c:\\Users\\cmram\\anaconda3\\Lib\\site-packages\\statsmodels\\tsa\\base\\tsa_model.py:473: ValueWarning: A date index has been provided, but it has no associated frequency information and so will be ignored when e.g. forecasting.\n",
      "  self._init_dates(dates, freq)\n",
      "c:\\Users\\cmram\\anaconda3\\Lib\\site-packages\\statsmodels\\tsa\\base\\tsa_model.py:473: ValueWarning: A date index has been provided, but it has no associated frequency information and so will be ignored when e.g. forecasting.\n",
      "  self._init_dates(dates, freq)\n",
      "c:\\Users\\cmram\\anaconda3\\Lib\\site-packages\\statsmodels\\tsa\\base\\tsa_model.py:473: ValueWarning: A date index has been provided, but it has no associated frequency information and so will be ignored when e.g. forecasting.\n",
      "  self._init_dates(dates, freq)\n"
     ]
    },
    {
     "name": "stdout",
     "output_type": "stream",
     "text": [
      "55.10190564458446\n"
     ]
    },
    {
     "name": "stderr",
     "output_type": "stream",
     "text": [
      "c:\\Users\\cmram\\anaconda3\\Lib\\site-packages\\statsmodels\\tsa\\base\\tsa_model.py:836: ValueWarning: No supported index is available. Prediction results will be given with an integer index beginning at `start`.\n",
      "  return get_prediction_index(\n",
      "c:\\Users\\cmram\\anaconda3\\Lib\\site-packages\\statsmodels\\tsa\\base\\tsa_model.py:836: FutureWarning: No supported index is available. In the next version, calling this method in a model without a supported index will result in an exception.\n",
      "  return get_prediction_index(\n"
     ]
    }
   ],
   "source": [
    "res = arma_order_select_ic(y=target_train, max_ar=0, max_ma=10)\n",
    "ma_order = res.bic_min_order[1] \n",
    "\n",
    "ma_model = ARIMA(target_train, order=(0, 0, ma_order))\n",
    "ma_model = ma_model.fit()\n",
    "\n",
    "start_value = len(target_train)\n",
    "end_value = start_value + len(features_val) - 1\n",
    "ma_pred = ma_model.predict(start=start_value, end=end_value, dynamic=False)\n",
    "\n",
    "ma_rmse_value = mean_squared_error(target_val, ma_pred, squared=False)\n",
    "print(ma_rmse_value)"
   ]
  },
  {
   "cell_type": "markdown",
   "metadata": {},
   "source": [
    "**Random Forest**"
   ]
  },
  {
   "cell_type": "code",
   "execution_count": 21,
   "metadata": {
    "trusted": true
   },
   "outputs": [
    {
     "name": "stdout",
     "output_type": "stream",
     "text": [
      "Random Forest RMSE: 34.88540337827593\n"
     ]
    }
   ],
   "source": [
    "rf_model = RandomForestRegressor(n_estimators=20, max_depth=5, n_jobs=1, random_state=12345)\n",
    "rf_model.fit(features_train_clean, target_train_clean)\n",
    "rf_preds = rf_model.predict(features_val.dropna())\n",
    "rf_rmse = mean_squared_error(target_val.dropna(), rf_preds, squared=False)\n",
    "print(\"Random Forest RMSE:\", rf_rmse)"
   ]
  },
  {
   "cell_type": "code",
   "execution_count": 22,
   "metadata": {
    "trusted": true
   },
   "outputs": [],
   "source": [
    "param_grid = {\n",
    "    'n_estimators': [30, 50, 100],\n",
    "    'max_depth': [5, 10, 15],\n",
    "    'min_samples_split': [2, 5, 7],\n",
    "}\n",
    "\n",
    "tscv = TimeSeriesSplit(n_splits=4)\n",
    "\n",
    "grid_search = GridSearchCV(estimator=RandomForestRegressor(), param_grid=param_grid, cv=tscv, n_jobs=-1, verbose=2, scoring='neg_root_mean_squared_error')"
   ]
  },
  {
   "cell_type": "code",
   "execution_count": 23,
   "metadata": {
    "trusted": true
   },
   "outputs": [
    {
     "name": "stdout",
     "output_type": "stream",
     "text": [
      "Fitting 4 folds for each of 27 candidates, totalling 108 fits\n",
      "Best Parameters: {'max_depth': 15, 'min_samples_split': 7, 'n_estimators': 50}\n"
     ]
    }
   ],
   "source": [
    "grid_search.fit(features_train_clean, target_train_clean)\n",
    "\n",
    "best_params = grid_search.best_params_\n",
    "print(\"Best Parameters:\", best_params)"
   ]
  },
  {
   "cell_type": "code",
   "execution_count": 24,
   "metadata": {
    "trusted": true
   },
   "outputs": [
    {
     "name": "stdout",
     "output_type": "stream",
     "text": [
      "Random Forest RMSE: 29.652710835212616\n"
     ]
    }
   ],
   "source": [
    "best_rf_model = RandomForestRegressor(n_estimators=30, max_depth=15, n_jobs=1, min_samples_split=7, random_state=12345)\n",
    "best_rf_model.fit(features_train_clean, target_train_clean)\n",
    "best_rf_preds = best_rf_model.predict(features_val.dropna())\n",
    "best_rf_rmse = mean_squared_error(target_val.dropna(), best_rf_preds, squared=False)\n",
    "print(\"Random Forest RMSE:\", best_rf_rmse)"
   ]
  },
  {
   "cell_type": "markdown",
   "metadata": {},
   "source": [
    "**LightGBM Regressor**"
   ]
  },
  {
   "cell_type": "code",
   "execution_count": 25,
   "metadata": {
    "trusted": true
   },
   "outputs": [
    {
     "name": "stdout",
     "output_type": "stream",
     "text": [
      "[LightGBM] [Info] Auto-choosing row-wise multi-threading, the overhead of testing was 0.000294 seconds.\n",
      "You can set `force_row_wise=true` to remove the overhead.\n",
      "And if memory is not enough, you can set `force_col_wise=true`.\n",
      "[LightGBM] [Info] Total Bins 1534\n",
      "[LightGBM] [Info] Number of data points in the train set: 3497, number of used features: 11\n",
      "[LightGBM] [Info] Start training from score 74.191021\n",
      "LightGBM RMSE: 30.2182995795\n"
     ]
    }
   ],
   "source": [
    "lgb_model = lgb.LGBMRegressor()\n",
    "lgb_model.fit(features_train_clean, target_train_clean)\n",
    "lgb_preds = lgb_model.predict(features_val.dropna())\n",
    "lgb_rmse = mean_squared_error(target_val.dropna(), lgb_preds, squared=False)\n",
    "print(\"LightGBM RMSE:\", lgb_rmse)"
   ]
  },
  {
   "cell_type": "code",
   "execution_count": 26,
   "metadata": {
    "trusted": true
   },
   "outputs": [],
   "source": [
    "param_dist = {\n",
    "    'num_leaves': [31, 40, 50],\n",
    "    'max_depth': [10, 20, 30],\n",
    "    'learning_rate': [0.01, 0.1, 0.2],\n",
    "    'n_estimators': [100, 200, 300]\n",
    "}\n",
    "\n",
    "lgb_search = RandomizedSearchCV(\n",
    "    estimator=lgb_model,\n",
    "    param_distributions=param_dist,\n",
    "    n_iter=3,\n",
    "    scoring='neg_root_mean_squared_error',\n",
    "    cv=tscv,\n",
    "    random_state=12345,\n",
    "    n_jobs=-1\n",
    ")"
   ]
  },
  {
   "cell_type": "code",
   "execution_count": 27,
   "metadata": {
    "trusted": true
   },
   "outputs": [
    {
     "name": "stdout",
     "output_type": "stream",
     "text": [
      "[LightGBM] [Info] Auto-choosing col-wise multi-threading, the overhead of testing was 0.000154 seconds.\n",
      "You can set `force_col_wise=true` to remove the overhead.\n",
      "[LightGBM] [Info] Total Bins 1534\n",
      "[LightGBM] [Info] Number of data points in the train set: 3497, number of used features: 11\n",
      "[LightGBM] [Info] Start training from score 74.191021\n",
      "Best Parameters: {'num_leaves': 31, 'n_estimators': 100, 'max_depth': 30, 'learning_rate': 0.1}\n"
     ]
    }
   ],
   "source": [
    "lgb_search.fit(features_train_clean, target_train_clean)\n",
    "\n",
    "print(\"Best Parameters:\", lgb_search.best_params_)"
   ]
  },
  {
   "cell_type": "code",
   "execution_count": 28,
   "metadata": {
    "trusted": true
   },
   "outputs": [
    {
     "name": "stdout",
     "output_type": "stream",
     "text": [
      "[LightGBM] [Info] Auto-choosing col-wise multi-threading, the overhead of testing was 0.000155 seconds.\n",
      "You can set `force_col_wise=true` to remove the overhead.\n",
      "[LightGBM] [Info] Total Bins 1534\n",
      "[LightGBM] [Info] Number of data points in the train set: 3497, number of used features: 11\n",
      "[LightGBM] [Info] Start training from score 74.191021\n",
      "LightGBM RMSE: 30.2182995795\n"
     ]
    }
   ],
   "source": [
    "best_lgb_model = lgb.LGBMRegressor(num_leaves=31, n_estimators=100, max_depth=30, learning_rate=0.1)\n",
    "best_lgb_model.fit(features_train_clean, target_train_clean)\n",
    "best_lgb_preds = best_lgb_model.predict(features_val.dropna())\n",
    "best_lgb_rmse = mean_squared_error(target_val.dropna(), best_lgb_preds, squared=False)\n",
    "print(\"LightGBM RMSE:\", best_lgb_rmse)"
   ]
  },
  {
   "cell_type": "markdown",
   "metadata": {},
   "source": [
    "We had 2 very good models both the Random Forest and the LightGBM. They were only 1 point away from each other. We will run both in the test to see how they preform."
   ]
  },
  {
   "cell_type": "markdown",
   "metadata": {},
   "source": [
    "## Testing"
   ]
  },
  {
   "cell_type": "code",
   "execution_count": 29,
   "metadata": {
    "trusted": true
   },
   "outputs": [
    {
     "name": "stdout",
     "output_type": "stream",
     "text": [
      "Dummy RMSE: 49.656625195059306\n"
     ]
    }
   ],
   "source": [
    "dummy_regressor = DummyRegressor(strategy='mean')\n",
    "dummy_regressor.fit(features_test, target_test)\n",
    "\n",
    "dummy_pred = dummy_regressor.predict(features_test.dropna())\n",
    "\n",
    "dummy_rmse = mean_squared_error(target_test.dropna(), dummy_pred, squared=False)\n",
    "print(\"Dummy RMSE:\", dummy_rmse)"
   ]
  },
  {
   "cell_type": "code",
   "execution_count": 30,
   "metadata": {
    "trusted": true
   },
   "outputs": [
    {
     "name": "stdout",
     "output_type": "stream",
     "text": [
      "[LightGBM] [Info] Auto-choosing col-wise multi-threading, the overhead of testing was 0.000056 seconds.\n",
      "You can set `force_col_wise=true` to remove the overhead.\n",
      "[LightGBM] [Info] Total Bins 942\n",
      "[LightGBM] [Info] Number of data points in the train set: 438, number of used features: 10\n",
      "[LightGBM] [Info] Start training from score 133.214612\n",
      "[LightGBM] [Warning] No further splits with positive gain, best gain: -inf\n",
      "[LightGBM] [Warning] No further splits with positive gain, best gain: -inf\n",
      "[LightGBM] [Warning] No further splits with positive gain, best gain: -inf\n",
      "[LightGBM] [Warning] No further splits with positive gain, best gain: -inf\n",
      "[LightGBM] [Warning] No further splits with positive gain, best gain: -inf\n",
      "[LightGBM] [Warning] No further splits with positive gain, best gain: -inf\n",
      "[LightGBM] [Warning] No further splits with positive gain, best gain: -inf\n",
      "[LightGBM] [Warning] No further splits with positive gain, best gain: -inf\n",
      "[LightGBM] [Warning] No further splits with positive gain, best gain: -inf\n",
      "[LightGBM] [Warning] No further splits with positive gain, best gain: -inf\n",
      "[LightGBM] [Warning] No further splits with positive gain, best gain: -inf\n",
      "[LightGBM] [Warning] No further splits with positive gain, best gain: -inf\n",
      "[LightGBM] [Warning] No further splits with positive gain, best gain: -inf\n",
      "[LightGBM] [Warning] No further splits with positive gain, best gain: -inf\n",
      "[LightGBM] [Warning] No further splits with positive gain, best gain: -inf\n",
      "[LightGBM] [Warning] No further splits with positive gain, best gain: -inf\n",
      "[LightGBM] [Warning] No further splits with positive gain, best gain: -inf\n",
      "[LightGBM] [Warning] No further splits with positive gain, best gain: -inf\n",
      "[LightGBM] [Warning] No further splits with positive gain, best gain: -inf\n",
      "[LightGBM] [Warning] No further splits with positive gain, best gain: -inf\n",
      "[LightGBM] [Warning] No further splits with positive gain, best gain: -inf\n",
      "[LightGBM] [Warning] No further splits with positive gain, best gain: -inf\n",
      "[LightGBM] [Warning] No further splits with positive gain, best gain: -inf\n",
      "[LightGBM] [Warning] No further splits with positive gain, best gain: -inf\n",
      "[LightGBM] [Warning] No further splits with positive gain, best gain: -inf\n",
      "[LightGBM] [Warning] No further splits with positive gain, best gain: -inf\n",
      "[LightGBM] [Warning] No further splits with positive gain, best gain: -inf\n",
      "[LightGBM] [Warning] No further splits with positive gain, best gain: -inf\n",
      "[LightGBM] [Warning] No further splits with positive gain, best gain: -inf\n",
      "[LightGBM] [Warning] No further splits with positive gain, best gain: -inf\n",
      "[LightGBM] [Warning] No further splits with positive gain, best gain: -inf\n",
      "[LightGBM] [Warning] No further splits with positive gain, best gain: -inf\n",
      "[LightGBM] [Warning] No further splits with positive gain, best gain: -inf\n",
      "[LightGBM] [Warning] No further splits with positive gain, best gain: -inf\n",
      "[LightGBM] [Warning] No further splits with positive gain, best gain: -inf\n",
      "[LightGBM] [Warning] No further splits with positive gain, best gain: -inf\n",
      "[LightGBM] [Warning] No further splits with positive gain, best gain: -inf\n",
      "[LightGBM] [Warning] No further splits with positive gain, best gain: -inf\n",
      "[LightGBM] [Warning] No further splits with positive gain, best gain: -inf\n",
      "[LightGBM] [Warning] No further splits with positive gain, best gain: -inf\n",
      "[LightGBM] [Warning] No further splits with positive gain, best gain: -inf\n",
      "[LightGBM] [Warning] No further splits with positive gain, best gain: -inf\n",
      "[LightGBM] [Warning] No further splits with positive gain, best gain: -inf\n",
      "[LightGBM] [Warning] No further splits with positive gain, best gain: -inf\n",
      "[LightGBM] [Warning] No further splits with positive gain, best gain: -inf\n",
      "[LightGBM] [Warning] No further splits with positive gain, best gain: -inf\n",
      "[LightGBM] [Warning] No further splits with positive gain, best gain: -inf\n",
      "[LightGBM] [Warning] No further splits with positive gain, best gain: -inf\n",
      "[LightGBM] [Warning] No further splits with positive gain, best gain: -inf\n",
      "[LightGBM] [Warning] No further splits with positive gain, best gain: -inf\n",
      "[LightGBM] [Warning] No further splits with positive gain, best gain: -inf\n",
      "[LightGBM] [Warning] No further splits with positive gain, best gain: -inf\n",
      "[LightGBM] [Warning] No further splits with positive gain, best gain: -inf\n",
      "[LightGBM] [Warning] No further splits with positive gain, best gain: -inf\n",
      "[LightGBM] [Warning] No further splits with positive gain, best gain: -inf\n",
      "[LightGBM] [Warning] No further splits with positive gain, best gain: -inf\n",
      "[LightGBM] [Warning] No further splits with positive gain, best gain: -inf\n",
      "[LightGBM] [Warning] No further splits with positive gain, best gain: -inf\n",
      "[LightGBM] [Warning] No further splits with positive gain, best gain: -inf\n",
      "[LightGBM] [Warning] No further splits with positive gain, best gain: -inf\n",
      "[LightGBM] [Warning] No further splits with positive gain, best gain: -inf\n",
      "[LightGBM] [Warning] No further splits with positive gain, best gain: -inf\n",
      "[LightGBM] [Warning] No further splits with positive gain, best gain: -inf\n",
      "[LightGBM] [Warning] No further splits with positive gain, best gain: -inf\n",
      "[LightGBM] [Warning] No further splits with positive gain, best gain: -inf\n",
      "[LightGBM] [Warning] No further splits with positive gain, best gain: -inf\n",
      "[LightGBM] [Warning] No further splits with positive gain, best gain: -inf\n",
      "[LightGBM] [Warning] No further splits with positive gain, best gain: -inf\n",
      "[LightGBM] [Warning] No further splits with positive gain, best gain: -inf\n",
      "[LightGBM] [Warning] No further splits with positive gain, best gain: -inf\n",
      "[LightGBM] [Warning] No further splits with positive gain, best gain: -inf\n",
      "[LightGBM] [Warning] No further splits with positive gain, best gain: -inf\n",
      "[LightGBM] [Warning] No further splits with positive gain, best gain: -inf\n",
      "[LightGBM] [Warning] No further splits with positive gain, best gain: -inf\n",
      "[LightGBM] [Warning] No further splits with positive gain, best gain: -inf\n",
      "[LightGBM] [Warning] No further splits with positive gain, best gain: -inf\n",
      "[LightGBM] [Warning] No further splits with positive gain, best gain: -inf\n",
      "[LightGBM] [Warning] No further splits with positive gain, best gain: -inf\n",
      "[LightGBM] [Warning] No further splits with positive gain, best gain: -inf\n",
      "[LightGBM] [Warning] No further splits with positive gain, best gain: -inf\n",
      "[LightGBM] [Warning] No further splits with positive gain, best gain: -inf\n",
      "[LightGBM] [Warning] No further splits with positive gain, best gain: -inf\n",
      "[LightGBM] [Warning] No further splits with positive gain, best gain: -inf\n",
      "[LightGBM] [Warning] No further splits with positive gain, best gain: -inf\n",
      "[LightGBM] [Warning] No further splits with positive gain, best gain: -inf\n",
      "[LightGBM] [Warning] No further splits with positive gain, best gain: -inf\n",
      "[LightGBM] [Warning] No further splits with positive gain, best gain: -inf\n",
      "[LightGBM] [Warning] No further splits with positive gain, best gain: -inf\n",
      "[LightGBM] [Warning] No further splits with positive gain, best gain: -inf\n",
      "[LightGBM] [Warning] No further splits with positive gain, best gain: -inf\n",
      "[LightGBM] [Warning] No further splits with positive gain, best gain: -inf\n",
      "[LightGBM] [Warning] No further splits with positive gain, best gain: -inf\n",
      "[LightGBM] [Warning] No further splits with positive gain, best gain: -inf\n",
      "[LightGBM] [Warning] No further splits with positive gain, best gain: -inf\n",
      "[LightGBM] [Warning] No further splits with positive gain, best gain: -inf\n",
      "[LightGBM] [Warning] No further splits with positive gain, best gain: -inf\n",
      "[LightGBM] [Warning] No further splits with positive gain, best gain: -inf\n",
      "[LightGBM] [Warning] No further splits with positive gain, best gain: -inf\n",
      "[LightGBM] [Warning] No further splits with positive gain, best gain: -inf\n",
      "[LightGBM] [Warning] No further splits with positive gain, best gain: -inf\n",
      "Test LightGBM RMSE: 12.978798913707022\n"
     ]
    }
   ],
   "source": [
    "best_model = lgb.LGBMRegressor(num_leaves=31, n_estimators=100, max_depth=30, learning_rate=0.1)\n",
    "best_model.fit(features_test, target_test)\n",
    "best_preds = best_model.predict(features_test.dropna())\n",
    "best_rmse = mean_squared_error(target_test.dropna(), best_preds, squared=False)\n",
    "print(\"Test LightGBM RMSE:\", best_rmse)"
   ]
  },
  {
   "cell_type": "code",
   "execution_count": 31,
   "metadata": {
    "trusted": true
   },
   "outputs": [
    {
     "name": "stdout",
     "output_type": "stream",
     "text": [
      "Test Random Forest RMSE: 16.68799047387975\n"
     ]
    }
   ],
   "source": [
    "test_rf_model = RandomForestRegressor(n_estimators=30, max_depth=15, n_jobs=1, min_samples_split=7, random_state=12345)\n",
    "test_rf_model.fit(features_test, target_test)\n",
    "test_rf_preds = test_rf_model.predict(features_test.dropna())\n",
    "test_rf_rmse = mean_squared_error(target_test.dropna(), test_rf_preds, squared=False)\n",
    "print(\"Test Random Forest RMSE:\", test_rf_rmse)"
   ]
  },
  {
   "cell_type": "markdown",
   "metadata": {},
   "source": [
    "## Conclusion\n",
    "\n",
    "Sweet Lift Taxi company has tasked us with creating a machine learning model to look at historical data on taxi orders at airports and predict the amount of taxi orders for the next hour to attract more drivers during that time.\n",
    "\n",
    "**PreProcessing**\n",
    "- We indexed our data\n",
    "- We looked at our data to make sure we had no outliers that would skew our models\n",
    "- We checked for duplicates and NA data but didn't find any\n",
    "- We added our extra columns before we split the data \n",
    "\n",
    "**Model Training** \n",
    "- We trained a Linear Regression to give us a baseline model to refer back to\n",
    "- We trained and tuned a Auto Regression model which gave us RSME of 55. This was higher than our required 48 \n",
    "- We tested a dummy regressor to compare to our best model with an RMSE of 49. Close to the required 48 but much worse than our LightGBM model\n",
    "- We trained a LightGBM model and with the best hyperparameters we get a RMSE of 30 in the train and a 12 in test. Our Random forest did better in the training with a RMSE of 29 but not as well in the test with a RMSE of 16. These were both lower than the required 48. This gives us a very accurate account of how many taxis orders will be made in the next hour"
   ]
  }
 ],
 "metadata": {
  "ExecuteTimeLog": [
   {
    "duration": 325,
    "start_time": "2025-04-25T00:06:32.905Z"
   },
   {
    "duration": 22,
    "start_time": "2025-04-25T00:06:33.323Z"
   },
   {
    "duration": 485,
    "start_time": "2025-04-25T00:12:08.825Z"
   },
   {
    "duration": 10,
    "start_time": "2025-04-25T00:12:46.451Z"
   },
   {
    "duration": 15,
    "start_time": "2025-04-25T00:13:03.238Z"
   },
   {
    "duration": 305,
    "start_time": "2025-04-25T00:14:02.172Z"
   },
   {
    "duration": 20,
    "start_time": "2025-04-25T00:14:02.479Z"
   },
   {
    "duration": 9,
    "start_time": "2025-04-25T00:14:02.502Z"
   },
   {
    "duration": 9,
    "start_time": "2025-04-25T00:14:02.513Z"
   },
   {
    "duration": 567,
    "start_time": "2025-04-25T00:14:02.524Z"
   },
   {
    "duration": 20,
    "start_time": "2025-04-25T00:14:57.841Z"
   },
   {
    "duration": 8,
    "start_time": "2025-04-25T00:14:58.596Z"
   },
   {
    "duration": 3,
    "start_time": "2025-04-25T00:15:12.104Z"
   },
   {
    "duration": 24,
    "start_time": "2025-04-25T00:15:51.884Z"
   },
   {
    "duration": 16,
    "start_time": "2025-04-25T00:16:01.173Z"
   },
   {
    "duration": 50860,
    "start_time": "2025-04-25T00:16:21.718Z"
   },
   {
    "duration": 17,
    "start_time": "2025-04-25T00:18:20.582Z"
   },
   {
    "duration": 288,
    "start_time": "2025-04-25T00:18:27.223Z"
   },
   {
    "duration": 20,
    "start_time": "2025-04-25T00:18:27.514Z"
   },
   {
    "duration": 8,
    "start_time": "2025-04-25T00:18:27.536Z"
   },
   {
    "duration": 25,
    "start_time": "2025-04-25T00:18:27.545Z"
   },
   {
    "duration": 6,
    "start_time": "2025-04-25T00:18:27.573Z"
   },
   {
    "duration": 191,
    "start_time": "2025-04-25T00:18:27.580Z"
   },
   {
    "duration": 12,
    "start_time": "2025-04-25T00:18:40.399Z"
   },
   {
    "duration": 674,
    "start_time": "2025-04-25T00:23:13.628Z"
   },
   {
    "duration": 56,
    "start_time": "2025-04-25T00:23:48.415Z"
   },
   {
    "duration": 13,
    "start_time": "2025-04-25T00:23:56.277Z"
   },
   {
    "duration": 924,
    "start_time": "2025-04-25T00:24:03.401Z"
   },
   {
    "duration": 20,
    "start_time": "2025-04-25T00:24:04.953Z"
   },
   {
    "duration": 22,
    "start_time": "2025-04-25T00:24:05.603Z"
   },
   {
    "duration": 951,
    "start_time": "2025-04-25T00:25:07.003Z"
   },
   {
    "duration": 32,
    "start_time": "2025-04-25T00:25:07.956Z"
   },
   {
    "duration": 25,
    "start_time": "2025-04-25T00:25:08.332Z"
   },
   {
    "duration": 5,
    "start_time": "2025-04-25T00:25:46.859Z"
   },
   {
    "duration": 237,
    "start_time": "2025-04-25T00:26:15.544Z"
   },
   {
    "duration": 4,
    "start_time": "2025-04-25T00:26:44.489Z"
   },
   {
    "duration": 221,
    "start_time": "2025-04-25T00:26:57.416Z"
   },
   {
    "duration": 19,
    "start_time": "2025-04-25T00:27:10.054Z"
   },
   {
    "duration": 18,
    "start_time": "2025-04-25T00:27:17.109Z"
   },
   {
    "duration": 578,
    "start_time": "2025-04-25T00:27:25.521Z"
   },
   {
    "duration": 451,
    "start_time": "2025-04-25T00:35:15.453Z"
   },
   {
    "duration": 5,
    "start_time": "2025-04-25T00:37:16.541Z"
   },
   {
    "duration": 4,
    "start_time": "2025-04-25T00:37:32.570Z"
   },
   {
    "duration": 224,
    "start_time": "2025-04-25T00:37:41.227Z"
   },
   {
    "duration": 7,
    "start_time": "2025-04-25T00:53:31.115Z"
   },
   {
    "duration": 2685,
    "start_time": "2025-04-26T16:56:59.137Z"
   },
   {
    "duration": 35,
    "start_time": "2025-04-26T16:57:01.824Z"
   },
   {
    "duration": 24,
    "start_time": "2025-04-26T16:57:01.860Z"
   },
   {
    "duration": 5,
    "start_time": "2025-04-26T16:57:01.886Z"
   },
   {
    "duration": 196,
    "start_time": "2025-04-26T16:57:01.894Z"
   },
   {
    "duration": 664,
    "start_time": "2025-04-26T16:57:02.093Z"
   },
   {
    "duration": 222,
    "start_time": "2025-04-26T16:57:02.759Z"
   },
   {
    "duration": 7,
    "start_time": "2025-04-26T16:57:02.982Z"
   },
   {
    "duration": 225,
    "start_time": "2025-04-26T17:02:01.384Z"
   },
   {
    "duration": 5,
    "start_time": "2025-04-26T17:02:12.736Z"
   },
   {
    "duration": 22,
    "start_time": "2025-04-26T17:13:47.217Z"
   },
   {
    "duration": 452,
    "start_time": "2025-04-26T17:13:52.872Z"
   },
   {
    "duration": 56,
    "start_time": "2025-04-26T17:36:19.250Z"
   },
   {
    "duration": 11,
    "start_time": "2025-04-26T17:36:26.218Z"
   },
   {
    "duration": 12,
    "start_time": "2025-04-26T17:38:17.707Z"
   },
   {
    "duration": 21,
    "start_time": "2025-04-26T17:39:54.725Z"
   },
   {
    "duration": 127,
    "start_time": "2025-04-26T17:41:47.617Z"
   },
   {
    "duration": 23,
    "start_time": "2025-04-26T17:43:04.539Z"
   },
   {
    "duration": 985,
    "start_time": "2025-04-26T17:47:52.751Z"
   },
   {
    "duration": 21,
    "start_time": "2025-04-26T17:47:53.738Z"
   },
   {
    "duration": 24,
    "start_time": "2025-04-26T17:47:53.760Z"
   },
   {
    "duration": 25,
    "start_time": "2025-04-26T17:47:53.785Z"
   },
   {
    "duration": 210,
    "start_time": "2025-04-26T17:47:53.813Z"
   },
   {
    "duration": 572,
    "start_time": "2025-04-26T17:47:54.025Z"
   },
   {
    "duration": 224,
    "start_time": "2025-04-26T17:47:54.599Z"
   },
   {
    "duration": 7,
    "start_time": "2025-04-26T17:47:54.825Z"
   },
   {
    "duration": 5,
    "start_time": "2025-04-26T17:47:54.834Z"
   },
   {
    "duration": 12,
    "start_time": "2025-04-26T17:47:54.841Z"
   },
   {
    "duration": 457,
    "start_time": "2025-04-26T17:47:54.855Z"
   },
   {
    "duration": 12,
    "start_time": "2025-04-26T17:48:23.181Z"
   },
   {
    "duration": 16,
    "start_time": "2025-04-26T17:49:23.647Z"
   },
   {
    "duration": 1020,
    "start_time": "2025-04-26T17:50:31.032Z"
   },
   {
    "duration": 73,
    "start_time": "2025-04-26T17:50:32.054Z"
   },
   {
    "duration": 25,
    "start_time": "2025-04-26T17:50:32.129Z"
   },
   {
    "duration": 5,
    "start_time": "2025-04-26T17:50:32.156Z"
   },
   {
    "duration": 207,
    "start_time": "2025-04-26T17:50:32.164Z"
   },
   {
    "duration": 604,
    "start_time": "2025-04-26T17:50:32.373Z"
   },
   {
    "duration": 220,
    "start_time": "2025-04-26T17:50:32.980Z"
   },
   {
    "duration": 14,
    "start_time": "2025-04-26T17:50:33.202Z"
   },
   {
    "duration": 8,
    "start_time": "2025-04-26T17:50:33.218Z"
   },
   {
    "duration": 313,
    "start_time": "2025-04-26T17:50:33.227Z"
   },
   {
    "duration": 0,
    "start_time": "2025-04-26T17:50:33.542Z"
   },
   {
    "duration": 0,
    "start_time": "2025-04-26T17:50:33.543Z"
   },
   {
    "duration": 7,
    "start_time": "2025-04-26T17:51:18.503Z"
   },
   {
    "duration": 7,
    "start_time": "2025-04-26T17:51:42.670Z"
   },
   {
    "duration": 6,
    "start_time": "2025-04-26T17:52:38.179Z"
   },
   {
    "duration": 5,
    "start_time": "2025-04-26T17:53:15.298Z"
   },
   {
    "duration": 6,
    "start_time": "2025-04-26T17:53:37.538Z"
   },
   {
    "duration": 991,
    "start_time": "2025-04-26T17:53:57.412Z"
   },
   {
    "duration": 24,
    "start_time": "2025-04-26T17:53:58.405Z"
   },
   {
    "duration": 34,
    "start_time": "2025-04-26T17:53:58.431Z"
   },
   {
    "duration": 17,
    "start_time": "2025-04-26T17:53:58.469Z"
   },
   {
    "duration": 231,
    "start_time": "2025-04-26T17:53:58.493Z"
   },
   {
    "duration": 575,
    "start_time": "2025-04-26T17:53:58.726Z"
   },
   {
    "duration": 230,
    "start_time": "2025-04-26T17:53:59.303Z"
   },
   {
    "duration": 7,
    "start_time": "2025-04-26T17:53:59.535Z"
   },
   {
    "duration": 4,
    "start_time": "2025-04-26T17:53:59.543Z"
   },
   {
    "duration": 5,
    "start_time": "2025-04-26T17:53:59.549Z"
   },
   {
    "duration": 12,
    "start_time": "2025-04-26T17:53:59.556Z"
   },
   {
    "duration": 344,
    "start_time": "2025-04-26T17:53:59.569Z"
   },
   {
    "duration": 15,
    "start_time": "2025-04-26T17:54:12.850Z"
   },
   {
    "duration": 128,
    "start_time": "2025-04-26T17:54:27.126Z"
   },
   {
    "duration": 47,
    "start_time": "2025-04-26T17:55:09.989Z"
   },
   {
    "duration": 13,
    "start_time": "2025-04-26T17:56:08.291Z"
   },
   {
    "duration": 13,
    "start_time": "2025-04-26T17:58:04.887Z"
   },
   {
    "duration": 13,
    "start_time": "2025-04-26T17:58:12.729Z"
   },
   {
    "duration": 13,
    "start_time": "2025-04-26T17:58:53.333Z"
   },
   {
    "duration": 1022,
    "start_time": "2025-04-26T18:03:33.651Z"
   },
   {
    "duration": 22,
    "start_time": "2025-04-26T18:03:34.676Z"
   },
   {
    "duration": 33,
    "start_time": "2025-04-26T18:03:34.700Z"
   },
   {
    "duration": 6,
    "start_time": "2025-04-26T18:03:34.734Z"
   },
   {
    "duration": 218,
    "start_time": "2025-04-26T18:03:34.743Z"
   },
   {
    "duration": 606,
    "start_time": "2025-04-26T18:03:34.963Z"
   },
   {
    "duration": 225,
    "start_time": "2025-04-26T18:03:35.571Z"
   },
   {
    "duration": 16,
    "start_time": "2025-04-26T18:03:35.798Z"
   },
   {
    "duration": 5,
    "start_time": "2025-04-26T18:03:35.815Z"
   },
   {
    "duration": 8,
    "start_time": "2025-04-26T18:03:35.822Z"
   },
   {
    "duration": 15,
    "start_time": "2025-04-26T18:03:35.832Z"
   },
   {
    "duration": 352,
    "start_time": "2025-04-26T18:03:35.849Z"
   },
   {
    "duration": 13,
    "start_time": "2025-04-26T18:03:56.304Z"
   },
   {
    "duration": 60,
    "start_time": "2025-04-26T18:30:47.272Z"
   },
   {
    "duration": 138,
    "start_time": "2025-04-26T18:31:56.089Z"
   },
   {
    "duration": 504,
    "start_time": "2025-04-26T18:32:57.606Z"
   },
   {
    "duration": 6,
    "start_time": "2025-04-26T18:33:59.048Z"
   },
   {
    "duration": 6,
    "start_time": "2025-04-26T18:34:36.114Z"
   },
   {
    "duration": 22,
    "start_time": "2025-04-26T18:37:09.035Z"
   },
   {
    "duration": 73481,
    "start_time": "2025-04-26T18:37:54.769Z"
   },
   {
    "duration": 73202,
    "start_time": "2025-04-26T18:40:18.723Z"
   },
   {
    "duration": 279,
    "start_time": "2025-04-26T18:42:09.347Z"
   },
   {
    "duration": 53,
    "start_time": "2025-04-26T18:42:38.304Z"
   },
   {
    "duration": 1015,
    "start_time": "2025-04-26T18:43:24.277Z"
   },
   {
    "duration": 26,
    "start_time": "2025-04-26T18:43:25.294Z"
   },
   {
    "duration": 26,
    "start_time": "2025-04-26T18:43:25.321Z"
   },
   {
    "duration": 4,
    "start_time": "2025-04-26T18:43:25.349Z"
   },
   {
    "duration": 215,
    "start_time": "2025-04-26T18:43:25.356Z"
   },
   {
    "duration": 613,
    "start_time": "2025-04-26T18:43:25.572Z"
   },
   {
    "duration": 230,
    "start_time": "2025-04-26T18:43:26.187Z"
   },
   {
    "duration": 8,
    "start_time": "2025-04-26T18:43:26.418Z"
   },
   {
    "duration": 3,
    "start_time": "2025-04-26T18:43:26.428Z"
   },
   {
    "duration": 97,
    "start_time": "2025-04-26T18:43:26.433Z"
   },
   {
    "duration": 7,
    "start_time": "2025-04-26T18:43:26.532Z"
   },
   {
    "duration": 15,
    "start_time": "2025-04-26T18:43:26.541Z"
   },
   {
    "duration": 13,
    "start_time": "2025-04-26T18:43:26.557Z"
   },
   {
    "duration": 5,
    "start_time": "2025-04-26T18:43:26.573Z"
   },
   {
    "duration": 73033,
    "start_time": "2025-04-26T18:43:26.580Z"
   },
   {
    "duration": 93,
    "start_time": "2025-04-26T18:44:39.616Z"
   },
   {
    "duration": 3,
    "start_time": "2025-04-26T18:45:25.859Z"
   },
   {
    "duration": 10929,
    "start_time": "2025-04-26T18:45:58.525Z"
   },
   {
    "duration": 126,
    "start_time": "2025-04-26T18:47:27.810Z"
   },
   {
    "duration": 4,
    "start_time": "2025-04-26T18:48:09.661Z"
   },
   {
    "duration": 35849,
    "start_time": "2025-04-26T18:48:13.303Z"
   },
   {
    "duration": 394,
    "start_time": "2025-04-26T18:49:01.282Z"
   },
   {
    "duration": 34,
    "start_time": "2025-04-26T18:51:31.289Z"
   },
   {
    "duration": 9947,
    "start_time": "2025-04-26T18:52:29.070Z"
   },
   {
    "duration": 5,
    "start_time": "2025-04-26T18:53:16.790Z"
   },
   {
    "duration": 260,
    "start_time": "2025-04-26T18:53:22.064Z"
   },
   {
    "duration": 117378,
    "start_time": "2025-04-26T18:53:33.545Z"
   },
   {
    "duration": 27977,
    "start_time": "2025-04-26T18:55:47.436Z"
   },
   {
    "duration": 90,
    "start_time": "2025-04-26T19:00:26.739Z"
   },
   {
    "duration": 5,
    "start_time": "2025-04-26T19:07:32.009Z"
   },
   {
    "duration": 3,
    "start_time": "2025-04-26T19:08:25.645Z"
   },
   {
    "duration": 1035,
    "start_time": "2025-04-26T19:09:46.841Z"
   },
   {
    "duration": 22,
    "start_time": "2025-04-26T19:09:47.879Z"
   },
   {
    "duration": 29,
    "start_time": "2025-04-26T19:09:47.903Z"
   },
   {
    "duration": 5,
    "start_time": "2025-04-26T19:09:47.934Z"
   },
   {
    "duration": 215,
    "start_time": "2025-04-26T19:09:47.942Z"
   },
   {
    "duration": 614,
    "start_time": "2025-04-26T19:09:48.159Z"
   },
   {
    "duration": 219,
    "start_time": "2025-04-26T19:09:48.775Z"
   },
   {
    "duration": 6,
    "start_time": "2025-04-26T19:09:48.997Z"
   },
   {
    "duration": 4,
    "start_time": "2025-04-26T19:09:49.010Z"
   },
   {
    "duration": 75,
    "start_time": "2025-04-26T19:09:49.017Z"
   },
   {
    "duration": 25,
    "start_time": "2025-04-26T19:09:49.094Z"
   },
   {
    "duration": 13,
    "start_time": "2025-04-26T19:09:49.120Z"
   },
   {
    "duration": 72877,
    "start_time": "2025-04-26T19:09:49.135Z"
   },
   {
    "duration": 94,
    "start_time": "2025-04-26T19:11:02.015Z"
   },
   {
    "duration": 4,
    "start_time": "2025-04-26T19:11:02.110Z"
   },
   {
    "duration": 35055,
    "start_time": "2025-04-26T19:11:02.115Z"
   },
   {
    "duration": 402,
    "start_time": "2025-04-26T19:11:37.171Z"
   },
   {
    "duration": 153,
    "start_time": "2025-04-26T19:11:37.575Z"
   },
   {
    "duration": 77,
    "start_time": "2025-04-26T19:11:37.732Z"
   },
   {
    "duration": 2516,
    "start_time": "2025-04-26T19:11:37.812Z"
   },
   {
    "duration": 497,
    "start_time": "2025-04-26T19:11:40.331Z"
   },
   {
    "duration": 122,
    "start_time": "2025-04-26T19:11:40.908Z"
   },
   {
    "duration": 169,
    "start_time": "2025-04-27T00:27:37.369Z"
   },
   {
    "duration": 2745,
    "start_time": "2025-04-27T00:27:42.317Z"
   },
   {
    "duration": 34,
    "start_time": "2025-04-27T00:27:45.065Z"
   },
   {
    "duration": 27,
    "start_time": "2025-04-27T00:27:45.103Z"
   },
   {
    "duration": 6,
    "start_time": "2025-04-27T00:27:45.133Z"
   },
   {
    "duration": 270,
    "start_time": "2025-04-27T00:27:45.141Z"
   },
   {
    "duration": 607,
    "start_time": "2025-04-27T00:27:45.413Z"
   },
   {
    "duration": 213,
    "start_time": "2025-04-27T00:27:46.022Z"
   },
   {
    "duration": 7,
    "start_time": "2025-04-27T00:27:46.238Z"
   },
   {
    "duration": 3,
    "start_time": "2025-04-27T00:27:46.247Z"
   },
   {
    "duration": 7,
    "start_time": "2025-04-27T00:27:46.251Z"
   },
   {
    "duration": 13,
    "start_time": "2025-04-27T00:27:46.263Z"
   },
   {
    "duration": 37,
    "start_time": "2025-04-27T00:27:46.278Z"
   },
   {
    "duration": 70216,
    "start_time": "2025-04-27T00:27:46.318Z"
   },
   {
    "duration": 143,
    "start_time": "2025-04-27T00:28:56.536Z"
   },
   {
    "duration": 3,
    "start_time": "2025-04-27T00:28:56.680Z"
   },
   {
    "duration": 34121,
    "start_time": "2025-04-27T00:28:56.685Z"
   },
   {
    "duration": 381,
    "start_time": "2025-04-27T00:29:30.808Z"
   },
   {
    "duration": 136,
    "start_time": "2025-04-27T00:29:31.191Z"
   },
   {
    "duration": 4,
    "start_time": "2025-04-27T00:29:31.328Z"
   },
   {
    "duration": 2117,
    "start_time": "2025-04-27T00:29:31.411Z"
   },
   {
    "duration": 491,
    "start_time": "2025-04-27T00:29:33.529Z"
   },
   {
    "duration": 6,
    "start_time": "2025-04-27T00:29:34.023Z"
   },
   {
    "duration": 197,
    "start_time": "2025-04-27T00:29:34.031Z"
   },
   {
    "duration": 8,
    "start_time": "2025-04-27T00:30:35.763Z"
   },
   {
    "duration": 6,
    "start_time": "2025-04-27T00:34:32.347Z"
   },
   {
    "duration": 190,
    "start_time": "2025-04-27T00:36:02.705Z"
   },
   {
    "duration": 968,
    "start_time": "2025-04-27T00:36:11.684Z"
   },
   {
    "duration": 21,
    "start_time": "2025-04-27T00:36:12.654Z"
   },
   {
    "duration": 36,
    "start_time": "2025-04-27T00:36:12.677Z"
   },
   {
    "duration": 5,
    "start_time": "2025-04-27T00:36:12.714Z"
   },
   {
    "duration": 4,
    "start_time": "2025-04-27T00:36:12.721Z"
   },
   {
    "duration": 203,
    "start_time": "2025-04-27T00:36:12.727Z"
   },
   {
    "duration": 170,
    "start_time": "2025-04-27T00:36:15.896Z"
   },
   {
    "duration": 85,
    "start_time": "2025-04-27T00:36:16.973Z"
   },
   {
    "duration": 85,
    "start_time": "2025-04-27T00:37:11.545Z"
   },
   {
    "duration": 8,
    "start_time": "2025-04-27T00:39:14.804Z"
   },
   {
    "duration": 7,
    "start_time": "2025-04-27T00:39:18.767Z"
   },
   {
    "duration": 7,
    "start_time": "2025-04-27T00:39:23.104Z"
   },
   {
    "duration": 299,
    "start_time": "2025-04-27T00:41:30.215Z"
   },
   {
    "duration": 6,
    "start_time": "2025-04-27T00:42:00.359Z"
   },
   {
    "duration": 9,
    "start_time": "2025-04-27T00:42:28.010Z"
   },
   {
    "duration": 8,
    "start_time": "2025-04-27T00:43:08.095Z"
   },
   {
    "duration": 993,
    "start_time": "2025-04-27T00:43:18.472Z"
   },
   {
    "duration": 22,
    "start_time": "2025-04-27T00:43:19.467Z"
   },
   {
    "duration": 33,
    "start_time": "2025-04-27T00:43:19.490Z"
   },
   {
    "duration": 5,
    "start_time": "2025-04-27T00:43:19.524Z"
   },
   {
    "duration": 4,
    "start_time": "2025-04-27T00:43:19.531Z"
   },
   {
    "duration": 202,
    "start_time": "2025-04-27T00:43:19.537Z"
   },
   {
    "duration": 548,
    "start_time": "2025-04-27T00:43:19.740Z"
   },
   {
    "duration": 213,
    "start_time": "2025-04-27T00:43:20.290Z"
   },
   {
    "duration": 166,
    "start_time": "2025-04-27T00:43:20.505Z"
   },
   {
    "duration": 6,
    "start_time": "2025-04-27T00:43:20.673Z"
   },
   {
    "duration": 7,
    "start_time": "2025-04-27T00:43:24.539Z"
   },
   {
    "duration": 11,
    "start_time": "2025-04-27T00:43:29.580Z"
   },
   {
    "duration": 1030,
    "start_time": "2025-04-27T00:44:42.725Z"
   },
   {
    "duration": 21,
    "start_time": "2025-04-27T00:44:43.757Z"
   },
   {
    "duration": 35,
    "start_time": "2025-04-27T00:44:43.780Z"
   },
   {
    "duration": 4,
    "start_time": "2025-04-27T00:44:43.817Z"
   },
   {
    "duration": 4,
    "start_time": "2025-04-27T00:44:43.824Z"
   },
   {
    "duration": 202,
    "start_time": "2025-04-27T00:44:43.830Z"
   },
   {
    "duration": 92,
    "start_time": "2025-04-27T00:44:44.034Z"
   },
   {
    "duration": 6,
    "start_time": "2025-04-27T00:44:44.128Z"
   },
   {
    "duration": 7,
    "start_time": "2025-04-27T00:44:48.349Z"
   },
   {
    "duration": 8,
    "start_time": "2025-04-27T00:44:48.777Z"
   },
   {
    "duration": 485,
    "start_time": "2025-04-27T00:44:55.351Z"
   },
   {
    "duration": 978,
    "start_time": "2025-04-27T00:45:07.270Z"
   },
   {
    "duration": 21,
    "start_time": "2025-04-27T00:45:08.250Z"
   },
   {
    "duration": 23,
    "start_time": "2025-04-27T00:45:08.272Z"
   },
   {
    "duration": 17,
    "start_time": "2025-04-27T00:45:08.297Z"
   },
   {
    "duration": 4,
    "start_time": "2025-04-27T00:45:08.317Z"
   },
   {
    "duration": 206,
    "start_time": "2025-04-27T00:45:08.323Z"
   },
   {
    "duration": 96,
    "start_time": "2025-04-27T00:45:08.531Z"
   },
   {
    "duration": 7,
    "start_time": "2025-04-27T00:45:08.629Z"
   },
   {
    "duration": 8,
    "start_time": "2025-04-27T00:45:08.638Z"
   },
   {
    "duration": 509,
    "start_time": "2025-04-27T00:45:08.647Z"
   },
   {
    "duration": 187,
    "start_time": "2025-04-27T00:45:09.158Z"
   },
   {
    "duration": 5,
    "start_time": "2025-04-27T00:45:09.347Z"
   },
   {
    "duration": 6,
    "start_time": "2025-04-27T00:45:09.353Z"
   },
   {
    "duration": 12,
    "start_time": "2025-04-27T00:45:09.362Z"
   },
   {
    "duration": 37,
    "start_time": "2025-04-27T00:45:09.375Z"
   },
   {
    "duration": 73527,
    "start_time": "2025-04-27T00:45:09.413Z"
   },
   {
    "duration": 149,
    "start_time": "2025-04-27T00:46:22.942Z"
   },
   {
    "duration": 3,
    "start_time": "2025-04-27T00:46:23.094Z"
   },
   {
    "duration": 33944,
    "start_time": "2025-04-27T00:46:23.099Z"
   },
   {
    "duration": 388,
    "start_time": "2025-04-27T00:46:57.045Z"
   },
   {
    "duration": 191,
    "start_time": "2025-04-27T00:46:57.435Z"
   },
   {
    "duration": 3,
    "start_time": "2025-04-27T00:46:57.628Z"
   },
   {
    "duration": 2385,
    "start_time": "2025-04-27T00:46:57.633Z"
   },
   {
    "duration": 494,
    "start_time": "2025-04-27T00:47:00.019Z"
   },
   {
    "duration": 7,
    "start_time": "2025-04-27T00:47:00.515Z"
   },
   {
    "duration": 191,
    "start_time": "2025-04-27T00:47:00.524Z"
   },
   {
    "duration": 2754,
    "start_time": "2025-04-30T01:39:41.997Z"
   },
   {
    "duration": 33,
    "start_time": "2025-04-30T01:39:44.753Z"
   },
   {
    "duration": 31,
    "start_time": "2025-04-30T01:39:44.788Z"
   },
   {
    "duration": 6,
    "start_time": "2025-04-30T01:39:44.821Z"
   },
   {
    "duration": 7,
    "start_time": "2025-04-30T01:39:44.831Z"
   },
   {
    "duration": 256,
    "start_time": "2025-04-30T01:39:44.840Z"
   },
   {
    "duration": 99,
    "start_time": "2025-04-30T01:39:45.098Z"
   },
   {
    "duration": 8,
    "start_time": "2025-04-30T01:39:45.199Z"
   },
   {
    "duration": 10,
    "start_time": "2025-04-30T01:39:45.208Z"
   },
   {
    "duration": 527,
    "start_time": "2025-04-30T01:39:45.220Z"
   },
   {
    "duration": 185,
    "start_time": "2025-04-30T01:39:45.749Z"
   },
   {
    "duration": 13,
    "start_time": "2025-04-30T01:39:45.936Z"
   },
   {
    "duration": 4,
    "start_time": "2025-04-30T01:39:45.950Z"
   },
   {
    "duration": 6,
    "start_time": "2025-04-30T01:39:45.957Z"
   },
   {
    "duration": 30,
    "start_time": "2025-04-30T01:39:45.987Z"
   },
   {
    "duration": 61078,
    "start_time": "2025-04-30T01:39:46.020Z"
   },
   {
    "duration": 132,
    "start_time": "2025-04-30T01:40:47.099Z"
   },
   {
    "duration": 4,
    "start_time": "2025-04-30T01:40:47.233Z"
   },
   {
    "duration": 1001,
    "start_time": "2025-04-30T01:41:31.929Z"
   },
   {
    "duration": 52,
    "start_time": "2025-04-30T01:41:32.933Z"
   },
   {
    "duration": 24,
    "start_time": "2025-04-30T01:41:32.986Z"
   },
   {
    "duration": 4,
    "start_time": "2025-04-30T01:41:33.011Z"
   },
   {
    "duration": 4,
    "start_time": "2025-04-30T01:41:33.019Z"
   },
   {
    "duration": 221,
    "start_time": "2025-04-30T01:41:33.025Z"
   },
   {
    "duration": 95,
    "start_time": "2025-04-30T01:41:33.248Z"
   },
   {
    "duration": 7,
    "start_time": "2025-04-30T01:41:33.344Z"
   },
   {
    "duration": 9,
    "start_time": "2025-04-30T01:41:33.352Z"
   },
   {
    "duration": 477,
    "start_time": "2025-04-30T01:41:33.362Z"
   },
   {
    "duration": 190,
    "start_time": "2025-04-30T01:41:33.841Z"
   },
   {
    "duration": 13,
    "start_time": "2025-04-30T01:41:37.348Z"
   },
   {
    "duration": 4,
    "start_time": "2025-04-30T01:41:48.249Z"
   },
   {
    "duration": 7,
    "start_time": "2025-04-30T01:41:48.958Z"
   },
   {
    "duration": 14,
    "start_time": "2025-04-30T01:42:19.497Z"
   },
   {
    "duration": 5,
    "start_time": "2025-04-30T01:42:28.983Z"
   },
   {
    "duration": 1036,
    "start_time": "2025-04-30T01:42:46.018Z"
   },
   {
    "duration": 22,
    "start_time": "2025-04-30T01:42:47.057Z"
   },
   {
    "duration": 25,
    "start_time": "2025-04-30T01:42:47.080Z"
   },
   {
    "duration": 4,
    "start_time": "2025-04-30T01:42:47.108Z"
   },
   {
    "duration": 5,
    "start_time": "2025-04-30T01:42:47.114Z"
   },
   {
    "duration": 210,
    "start_time": "2025-04-30T01:42:47.121Z"
   },
   {
    "duration": 100,
    "start_time": "2025-04-30T01:42:47.333Z"
   },
   {
    "duration": 6,
    "start_time": "2025-04-30T01:42:47.436Z"
   },
   {
    "duration": 9,
    "start_time": "2025-04-30T01:42:47.445Z"
   },
   {
    "duration": 511,
    "start_time": "2025-04-30T01:42:47.456Z"
   },
   {
    "duration": 193,
    "start_time": "2025-04-30T01:42:47.969Z"
   },
   {
    "duration": 13,
    "start_time": "2025-04-30T01:42:48.164Z"
   },
   {
    "duration": 6,
    "start_time": "2025-04-30T01:42:48.186Z"
   },
   {
    "duration": 18,
    "start_time": "2025-04-30T01:43:13.843Z"
   },
   {
    "duration": 6,
    "start_time": "2025-04-30T01:43:27.303Z"
   },
   {
    "duration": 7,
    "start_time": "2025-04-30T01:44:13.997Z"
   },
   {
    "duration": 17,
    "start_time": "2025-04-30T01:44:40.111Z"
   },
   {
    "duration": 8,
    "start_time": "2025-04-30T01:44:40.896Z"
   },
   {
    "duration": 5,
    "start_time": "2025-04-30T01:45:26.135Z"
   },
   {
    "duration": 6,
    "start_time": "2025-04-30T01:45:26.811Z"
   },
   {
    "duration": 1124,
    "start_time": "2025-04-30T01:45:55.503Z"
   },
   {
    "duration": 20,
    "start_time": "2025-04-30T01:45:56.629Z"
   },
   {
    "duration": 24,
    "start_time": "2025-04-30T01:45:56.651Z"
   },
   {
    "duration": 5,
    "start_time": "2025-04-30T01:45:56.687Z"
   },
   {
    "duration": 15,
    "start_time": "2025-04-30T01:45:56.695Z"
   },
   {
    "duration": 226,
    "start_time": "2025-04-30T01:45:56.714Z"
   },
   {
    "duration": 101,
    "start_time": "2025-04-30T01:45:56.943Z"
   },
   {
    "duration": 7,
    "start_time": "2025-04-30T01:45:57.046Z"
   },
   {
    "duration": 9,
    "start_time": "2025-04-30T01:45:57.054Z"
   },
   {
    "duration": 482,
    "start_time": "2025-04-30T01:45:57.065Z"
   },
   {
    "duration": 233,
    "start_time": "2025-04-30T01:45:57.549Z"
   },
   {
    "duration": 28,
    "start_time": "2025-04-30T01:45:57.783Z"
   },
   {
    "duration": 19,
    "start_time": "2025-04-30T01:45:57.813Z"
   },
   {
    "duration": 6,
    "start_time": "2025-04-30T01:45:57.835Z"
   },
   {
    "duration": 14,
    "start_time": "2025-04-30T01:45:57.844Z"
   },
   {
    "duration": 4,
    "start_time": "2025-04-30T01:48:48.716Z"
   },
   {
    "duration": 10,
    "start_time": "2025-04-30T01:48:49.293Z"
   },
   {
    "duration": 29,
    "start_time": "2025-04-30T01:48:52.544Z"
   },
   {
    "duration": 3,
    "start_time": "2025-04-30T01:54:51.746Z"
   },
   {
    "duration": 18,
    "start_time": "2025-04-30T01:55:37.613Z"
   },
   {
    "duration": 3,
    "start_time": "2025-04-30T01:57:54.143Z"
   },
   {
    "duration": 962,
    "start_time": "2025-04-30T01:58:35.278Z"
   },
   {
    "duration": 21,
    "start_time": "2025-04-30T01:58:36.242Z"
   },
   {
    "duration": 35,
    "start_time": "2025-04-30T01:58:36.265Z"
   },
   {
    "duration": 5,
    "start_time": "2025-04-30T01:58:36.301Z"
   },
   {
    "duration": 4,
    "start_time": "2025-04-30T01:58:36.308Z"
   },
   {
    "duration": 202,
    "start_time": "2025-04-30T01:58:36.314Z"
   },
   {
    "duration": 99,
    "start_time": "2025-04-30T01:58:36.518Z"
   },
   {
    "duration": 6,
    "start_time": "2025-04-30T01:58:36.619Z"
   },
   {
    "duration": 8,
    "start_time": "2025-04-30T01:58:36.627Z"
   },
   {
    "duration": 519,
    "start_time": "2025-04-30T01:58:36.636Z"
   },
   {
    "duration": 188,
    "start_time": "2025-04-30T01:58:37.157Z"
   },
   {
    "duration": 17,
    "start_time": "2025-04-30T01:58:37.347Z"
   },
   {
    "duration": 21,
    "start_time": "2025-04-30T01:58:37.366Z"
   },
   {
    "duration": 5,
    "start_time": "2025-04-30T01:58:37.390Z"
   },
   {
    "duration": 4,
    "start_time": "2025-04-30T01:58:37.397Z"
   },
   {
    "duration": 3,
    "start_time": "2025-04-30T01:58:37.404Z"
   },
   {
    "duration": 7,
    "start_time": "2025-04-30T01:58:37.408Z"
   },
   {
    "duration": 332,
    "start_time": "2025-04-30T01:58:43.149Z"
   },
   {
    "duration": 20,
    "start_time": "2025-04-30T01:59:45.309Z"
   },
   {
    "duration": 524,
    "start_time": "2025-04-30T01:59:55.063Z"
   },
   {
    "duration": 20,
    "start_time": "2025-04-30T02:00:13.554Z"
   },
   {
    "duration": 20,
    "start_time": "2025-04-30T02:07:24.778Z"
   },
   {
    "duration": 23,
    "start_time": "2025-04-30T02:08:37.614Z"
   },
   {
    "duration": 979,
    "start_time": "2025-04-30T02:09:46.768Z"
   },
   {
    "duration": 21,
    "start_time": "2025-04-30T02:09:47.749Z"
   },
   {
    "duration": 33,
    "start_time": "2025-04-30T02:09:47.771Z"
   },
   {
    "duration": 5,
    "start_time": "2025-04-30T02:09:47.806Z"
   },
   {
    "duration": 4,
    "start_time": "2025-04-30T02:09:47.813Z"
   },
   {
    "duration": 210,
    "start_time": "2025-04-30T02:09:47.820Z"
   },
   {
    "duration": 96,
    "start_time": "2025-04-30T02:09:48.032Z"
   },
   {
    "duration": 11,
    "start_time": "2025-04-30T02:09:48.130Z"
   },
   {
    "duration": 9,
    "start_time": "2025-04-30T02:09:48.143Z"
   },
   {
    "duration": 470,
    "start_time": "2025-04-30T02:09:48.153Z"
   },
   {
    "duration": 182,
    "start_time": "2025-04-30T02:09:48.624Z"
   },
   {
    "duration": 12,
    "start_time": "2025-04-30T02:09:48.808Z"
   },
   {
    "duration": 6,
    "start_time": "2025-04-30T02:09:48.822Z"
   },
   {
    "duration": 5,
    "start_time": "2025-04-30T02:09:48.831Z"
   },
   {
    "duration": 5,
    "start_time": "2025-04-30T02:09:48.837Z"
   },
   {
    "duration": 3,
    "start_time": "2025-04-30T02:09:48.844Z"
   },
   {
    "duration": 39,
    "start_time": "2025-04-30T02:09:48.849Z"
   },
   {
    "duration": 90,
    "start_time": "2025-04-30T02:09:51.996Z"
   },
   {
    "duration": 74228,
    "start_time": "2025-04-30T02:09:56.280Z"
   },
   {
    "duration": 103,
    "start_time": "2025-04-30T02:11:23.450Z"
   },
   {
    "duration": 4,
    "start_time": "2025-04-30T02:11:26.052Z"
   },
   {
    "duration": 3,
    "start_time": "2025-04-30T02:12:39.893Z"
   },
   {
    "duration": 307,
    "start_time": "2025-04-30T02:13:09.491Z"
   },
   {
    "duration": 3,
    "start_time": "2025-04-30T02:13:30.834Z"
   },
   {
    "duration": 33594,
    "start_time": "2025-04-30T02:13:34.165Z"
   },
   {
    "duration": 3,
    "start_time": "2025-04-30T02:14:29.700Z"
   },
   {
    "duration": 1028,
    "start_time": "2025-04-30T02:14:53.710Z"
   },
   {
    "duration": 20,
    "start_time": "2025-04-30T02:14:54.740Z"
   },
   {
    "duration": 32,
    "start_time": "2025-04-30T02:14:54.764Z"
   },
   {
    "duration": 4,
    "start_time": "2025-04-30T02:14:54.799Z"
   },
   {
    "duration": 5,
    "start_time": "2025-04-30T02:14:54.806Z"
   },
   {
    "duration": 210,
    "start_time": "2025-04-30T02:14:54.812Z"
   },
   {
    "duration": 101,
    "start_time": "2025-04-30T02:14:55.025Z"
   },
   {
    "duration": 6,
    "start_time": "2025-04-30T02:14:55.128Z"
   },
   {
    "duration": 8,
    "start_time": "2025-04-30T02:14:55.136Z"
   },
   {
    "duration": 489,
    "start_time": "2025-04-30T02:14:55.146Z"
   },
   {
    "duration": 184,
    "start_time": "2025-04-30T02:14:55.637Z"
   },
   {
    "duration": 13,
    "start_time": "2025-04-30T02:14:55.823Z"
   },
   {
    "duration": 6,
    "start_time": "2025-04-30T02:14:55.840Z"
   },
   {
    "duration": 5,
    "start_time": "2025-04-30T02:14:55.848Z"
   },
   {
    "duration": 5,
    "start_time": "2025-04-30T02:14:55.854Z"
   },
   {
    "duration": 28,
    "start_time": "2025-04-30T02:14:55.860Z"
   },
   {
    "duration": 7,
    "start_time": "2025-04-30T02:14:55.890Z"
   },
   {
    "duration": 24,
    "start_time": "2025-04-30T02:14:55.899Z"
   },
   {
    "duration": 74796,
    "start_time": "2025-04-30T02:14:55.993Z"
   },
   {
    "duration": 140,
    "start_time": "2025-04-30T02:16:10.793Z"
   },
   {
    "duration": 3,
    "start_time": "2025-04-30T02:16:10.935Z"
   },
   {
    "duration": 32814,
    "start_time": "2025-04-30T02:16:10.940Z"
   },
   {
    "duration": 349,
    "start_time": "2025-04-30T02:16:43.756Z"
   },
   {
    "duration": 0,
    "start_time": "2025-04-30T02:16:44.107Z"
   },
   {
    "duration": 0,
    "start_time": "2025-04-30T02:16:44.108Z"
   },
   {
    "duration": 0,
    "start_time": "2025-04-30T02:16:44.110Z"
   },
   {
    "duration": 0,
    "start_time": "2025-04-30T02:16:44.111Z"
   },
   {
    "duration": 0,
    "start_time": "2025-04-30T02:16:44.113Z"
   },
   {
    "duration": 0,
    "start_time": "2025-04-30T02:16:44.116Z"
   },
   {
    "duration": 605,
    "start_time": "2025-04-30T02:16:49.461Z"
   },
   {
    "duration": 239,
    "start_time": "2025-04-30T02:16:54.455Z"
   },
   {
    "duration": 432,
    "start_time": "2025-04-30T02:17:38.490Z"
   },
   {
    "duration": 3,
    "start_time": "2025-04-30T02:17:51.471Z"
   },
   {
    "duration": 3161,
    "start_time": "2025-04-30T02:17:55.026Z"
   },
   {
    "duration": 689,
    "start_time": "2025-04-30T02:17:58.511Z"
   },
   {
    "duration": 535,
    "start_time": "2025-04-30T02:18:21.566Z"
   },
   {
    "duration": 343,
    "start_time": "2025-04-30T02:19:50.452Z"
   },
   {
    "duration": 7,
    "start_time": "2025-04-30T02:20:25.561Z"
   },
   {
    "duration": 4,
    "start_time": "2025-04-30T02:20:34.063Z"
   },
   {
    "duration": 201,
    "start_time": "2025-04-30T02:20:40.988Z"
   },
   {
    "duration": 139,
    "start_time": "2025-04-30T02:30:47.742Z"
   },
   {
    "duration": 139,
    "start_time": "2025-04-30T02:31:14.322Z"
   },
   {
    "duration": 1001,
    "start_time": "2025-04-30T02:31:31.467Z"
   },
   {
    "duration": 23,
    "start_time": "2025-04-30T02:31:32.470Z"
   },
   {
    "duration": 25,
    "start_time": "2025-04-30T02:31:32.495Z"
   },
   {
    "duration": 4,
    "start_time": "2025-04-30T02:31:32.521Z"
   },
   {
    "duration": 4,
    "start_time": "2025-04-30T02:31:32.528Z"
   },
   {
    "duration": 214,
    "start_time": "2025-04-30T02:31:32.533Z"
   },
   {
    "duration": 95,
    "start_time": "2025-04-30T02:31:32.749Z"
   },
   {
    "duration": 6,
    "start_time": "2025-04-30T02:31:32.846Z"
   },
   {
    "duration": 7,
    "start_time": "2025-04-30T02:31:32.854Z"
   },
   {
    "duration": 472,
    "start_time": "2025-04-30T02:31:32.863Z"
   },
   {
    "duration": 196,
    "start_time": "2025-04-30T02:31:33.337Z"
   },
   {
    "duration": 154,
    "start_time": "2025-04-30T02:31:33.535Z"
   },
   {
    "duration": 14,
    "start_time": "2025-04-30T02:31:33.691Z"
   },
   {
    "duration": 6,
    "start_time": "2025-04-30T02:31:33.708Z"
   },
   {
    "duration": 5,
    "start_time": "2025-04-30T02:31:33.716Z"
   },
   {
    "duration": 6,
    "start_time": "2025-04-30T02:31:33.722Z"
   },
   {
    "duration": 3,
    "start_time": "2025-04-30T02:31:33.730Z"
   },
   {
    "duration": 7,
    "start_time": "2025-04-30T02:31:33.735Z"
   },
   {
    "duration": 66,
    "start_time": "2025-04-30T02:31:33.744Z"
   },
   {
    "duration": 74376,
    "start_time": "2025-04-30T02:31:33.811Z"
   },
   {
    "duration": 144,
    "start_time": "2025-04-30T02:32:48.189Z"
   },
   {
    "duration": 4,
    "start_time": "2025-04-30T02:32:48.335Z"
   },
   {
    "duration": 32891,
    "start_time": "2025-04-30T02:32:48.341Z"
   },
   {
    "duration": 405,
    "start_time": "2025-04-30T02:33:21.234Z"
   },
   {
    "duration": 262,
    "start_time": "2025-04-30T02:33:21.641Z"
   },
   {
    "duration": 80,
    "start_time": "2025-04-30T02:33:21.907Z"
   },
   {
    "duration": 3108,
    "start_time": "2025-04-30T02:33:21.989Z"
   },
   {
    "duration": 599,
    "start_time": "2025-04-30T02:33:25.098Z"
   },
   {
    "duration": 289,
    "start_time": "2025-04-30T02:33:25.700Z"
   },
   {
    "duration": 3,
    "start_time": "2025-04-30T02:38:12.533Z"
   },
   {
    "duration": 339,
    "start_time": "2025-04-30T02:39:47.952Z"
   },
   {
    "duration": 18,
    "start_time": "2025-04-30T02:40:02.528Z"
   },
   {
    "duration": 7,
    "start_time": "2025-04-30T02:40:09.062Z"
   },
   {
    "duration": 2837,
    "start_time": "2025-04-30T10:59:25.155Z"
   },
   {
    "duration": 29,
    "start_time": "2025-04-30T10:59:27.994Z"
   },
   {
    "duration": 26,
    "start_time": "2025-04-30T10:59:28.024Z"
   },
   {
    "duration": 4,
    "start_time": "2025-04-30T10:59:28.053Z"
   },
   {
    "duration": 4,
    "start_time": "2025-04-30T10:59:28.059Z"
   },
   {
    "duration": 197,
    "start_time": "2025-04-30T10:59:28.065Z"
   },
   {
    "duration": 144,
    "start_time": "2025-04-30T10:59:28.264Z"
   },
   {
    "duration": 7,
    "start_time": "2025-04-30T10:59:28.410Z"
   },
   {
    "duration": 23,
    "start_time": "2025-04-30T10:59:28.419Z"
   },
   {
    "duration": 461,
    "start_time": "2025-04-30T10:59:28.446Z"
   },
   {
    "duration": 193,
    "start_time": "2025-04-30T10:59:28.909Z"
   },
   {
    "duration": 151,
    "start_time": "2025-04-30T10:59:29.104Z"
   },
   {
    "duration": 13,
    "start_time": "2025-04-30T10:59:29.256Z"
   },
   {
    "duration": 6,
    "start_time": "2025-04-30T10:59:29.271Z"
   },
   {
    "duration": 5,
    "start_time": "2025-04-30T10:59:29.279Z"
   },
   {
    "duration": 5,
    "start_time": "2025-04-30T10:59:29.286Z"
   },
   {
    "duration": 3,
    "start_time": "2025-04-30T10:59:29.292Z"
   },
   {
    "duration": 48,
    "start_time": "2025-04-30T10:59:29.297Z"
   },
   {
    "duration": 15,
    "start_time": "2025-04-30T10:59:29.348Z"
   },
   {
    "duration": 5,
    "start_time": "2025-04-30T10:59:49.836Z"
   },
   {
    "duration": 24,
    "start_time": "2025-04-30T10:59:49.843Z"
   },
   {
    "duration": 20,
    "start_time": "2025-04-30T10:59:49.869Z"
   },
   {
    "duration": 5,
    "start_time": "2025-04-30T10:59:49.891Z"
   },
   {
    "duration": 7,
    "start_time": "2025-04-30T10:59:49.897Z"
   },
   {
    "duration": 239,
    "start_time": "2025-04-30T10:59:49.905Z"
   },
   {
    "duration": 83,
    "start_time": "2025-04-30T10:59:50.146Z"
   },
   {
    "duration": 16,
    "start_time": "2025-04-30T10:59:50.231Z"
   },
   {
    "duration": 12,
    "start_time": "2025-04-30T10:59:50.249Z"
   },
   {
    "duration": 497,
    "start_time": "2025-04-30T10:59:50.263Z"
   },
   {
    "duration": 193,
    "start_time": "2025-04-30T10:59:50.762Z"
   },
   {
    "duration": 171,
    "start_time": "2025-04-30T10:59:50.957Z"
   },
   {
    "duration": 26,
    "start_time": "2025-04-30T10:59:51.130Z"
   },
   {
    "duration": 10,
    "start_time": "2025-04-30T10:59:51.157Z"
   },
   {
    "duration": 5,
    "start_time": "2025-04-30T10:59:51.169Z"
   },
   {
    "duration": 5,
    "start_time": "2025-04-30T10:59:51.176Z"
   },
   {
    "duration": 3,
    "start_time": "2025-04-30T10:59:51.182Z"
   },
   {
    "duration": 6,
    "start_time": "2025-04-30T10:59:51.187Z"
   },
   {
    "duration": 68,
    "start_time": "2025-04-30T10:59:51.195Z"
   },
   {
    "duration": 3049,
    "start_time": "2025-04-30T23:24:54.477Z"
   },
   {
    "duration": 40,
    "start_time": "2025-04-30T23:24:57.529Z"
   },
   {
    "duration": 28,
    "start_time": "2025-04-30T23:24:57.571Z"
   },
   {
    "duration": 14,
    "start_time": "2025-04-30T23:24:57.601Z"
   },
   {
    "duration": 5,
    "start_time": "2025-04-30T23:24:57.619Z"
   },
   {
    "duration": 313,
    "start_time": "2025-04-30T23:24:57.626Z"
   },
   {
    "duration": 106,
    "start_time": "2025-04-30T23:24:57.941Z"
   },
   {
    "duration": 9,
    "start_time": "2025-04-30T23:24:58.049Z"
   },
   {
    "duration": 10,
    "start_time": "2025-04-30T23:24:58.060Z"
   },
   {
    "duration": 521,
    "start_time": "2025-04-30T23:24:58.071Z"
   },
   {
    "duration": 220,
    "start_time": "2025-04-30T23:24:58.594Z"
   },
   {
    "duration": 161,
    "start_time": "2025-04-30T23:24:58.817Z"
   },
   {
    "duration": 28,
    "start_time": "2025-04-30T23:24:58.981Z"
   },
   {
    "duration": 15,
    "start_time": "2025-04-30T23:24:59.013Z"
   },
   {
    "duration": 6,
    "start_time": "2025-04-30T23:24:59.030Z"
   },
   {
    "duration": 6,
    "start_time": "2025-04-30T23:24:59.038Z"
   },
   {
    "duration": 4,
    "start_time": "2025-04-30T23:24:59.046Z"
   },
   {
    "duration": 8,
    "start_time": "2025-04-30T23:24:59.052Z"
   },
   {
    "duration": 53,
    "start_time": "2025-04-30T23:24:59.062Z"
   },
   {
    "duration": 72215,
    "start_time": "2025-04-30T23:24:59.117Z"
   },
   {
    "duration": 164,
    "start_time": "2025-04-30T23:26:11.335Z"
   },
   {
    "duration": 10,
    "start_time": "2025-04-30T23:26:11.502Z"
   },
   {
    "duration": 35786,
    "start_time": "2025-04-30T23:26:11.516Z"
   },
   {
    "duration": 459,
    "start_time": "2025-04-30T23:26:47.304Z"
   },
   {
    "duration": 61052,
    "start_time": "2025-04-30T23:26:47.766Z"
   },
   {
    "duration": 5,
    "start_time": "2025-04-30T23:27:48.823Z"
   },
   {
    "duration": 27090,
    "start_time": "2025-04-30T23:27:48.830Z"
   },
   {
    "duration": 0,
    "start_time": "2025-04-30T23:28:15.922Z"
   },
   {
    "duration": 0,
    "start_time": "2025-04-30T23:28:15.923Z"
   },
   {
    "duration": 0,
    "start_time": "2025-04-30T23:28:15.924Z"
   },
   {
    "duration": 0,
    "start_time": "2025-04-30T23:28:15.925Z"
   },
   {
    "duration": 1230,
    "start_time": "2025-04-30T23:28:25.413Z"
   },
   {
    "duration": 24,
    "start_time": "2025-04-30T23:28:26.646Z"
   },
   {
    "duration": 47,
    "start_time": "2025-04-30T23:28:26.672Z"
   },
   {
    "duration": 4,
    "start_time": "2025-04-30T23:28:26.722Z"
   },
   {
    "duration": 5,
    "start_time": "2025-04-30T23:28:26.729Z"
   },
   {
    "duration": 258,
    "start_time": "2025-04-30T23:28:26.736Z"
   },
   {
    "duration": 121,
    "start_time": "2025-04-30T23:28:26.996Z"
   },
   {
    "duration": 9,
    "start_time": "2025-04-30T23:28:27.119Z"
   },
   {
    "duration": 10,
    "start_time": "2025-04-30T23:28:27.130Z"
   },
   {
    "duration": 564,
    "start_time": "2025-04-30T23:28:27.142Z"
   },
   {
    "duration": 211,
    "start_time": "2025-04-30T23:28:27.708Z"
   },
   {
    "duration": 189,
    "start_time": "2025-04-30T23:28:27.922Z"
   },
   {
    "duration": 14,
    "start_time": "2025-04-30T23:28:28.114Z"
   },
   {
    "duration": 8,
    "start_time": "2025-04-30T23:28:28.132Z"
   },
   {
    "duration": 7,
    "start_time": "2025-04-30T23:28:28.142Z"
   },
   {
    "duration": 8,
    "start_time": "2025-04-30T23:28:28.151Z"
   },
   {
    "duration": 5,
    "start_time": "2025-04-30T23:28:28.161Z"
   },
   {
    "duration": 50,
    "start_time": "2025-04-30T23:28:28.168Z"
   },
   {
    "duration": 98,
    "start_time": "2025-04-30T23:28:28.221Z"
   },
   {
    "duration": 76698,
    "start_time": "2025-04-30T23:28:28.321Z"
   },
   {
    "duration": 157,
    "start_time": "2025-04-30T23:29:45.021Z"
   },
   {
    "duration": 3,
    "start_time": "2025-04-30T23:29:45.181Z"
   },
   {
    "duration": 35031,
    "start_time": "2025-04-30T23:29:45.187Z"
   },
   {
    "duration": 1338,
    "start_time": "2025-04-30T23:30:20.221Z"
   },
   {
    "duration": 410,
    "start_time": "2025-04-30T23:30:36.681Z"
   },
   {
    "duration": 82866,
    "start_time": "2025-04-30T23:30:46.062Z"
   },
   {
    "duration": 3,
    "start_time": "2025-04-30T23:32:12.307Z"
   },
   {
    "duration": 1233,
    "start_time": "2025-04-30T23:41:54.124Z"
   },
   {
    "duration": 31,
    "start_time": "2025-04-30T23:41:55.360Z"
   },
   {
    "duration": 33,
    "start_time": "2025-04-30T23:41:55.393Z"
   },
   {
    "duration": 5,
    "start_time": "2025-04-30T23:41:55.428Z"
   },
   {
    "duration": 5,
    "start_time": "2025-04-30T23:41:55.435Z"
   },
   {
    "duration": 228,
    "start_time": "2025-04-30T23:41:55.443Z"
   },
   {
    "duration": 97,
    "start_time": "2025-04-30T23:41:55.674Z"
   },
   {
    "duration": 8,
    "start_time": "2025-04-30T23:41:55.773Z"
   },
   {
    "duration": 9,
    "start_time": "2025-04-30T23:41:55.783Z"
   },
   {
    "duration": 530,
    "start_time": "2025-04-30T23:41:55.811Z"
   },
   {
    "duration": 234,
    "start_time": "2025-04-30T23:41:56.344Z"
   },
   {
    "duration": 168,
    "start_time": "2025-04-30T23:41:56.580Z"
   },
   {
    "duration": 15,
    "start_time": "2025-04-30T23:41:56.750Z"
   },
   {
    "duration": 8,
    "start_time": "2025-04-30T23:41:56.773Z"
   },
   {
    "duration": 28,
    "start_time": "2025-04-30T23:41:56.783Z"
   },
   {
    "duration": 7,
    "start_time": "2025-04-30T23:41:56.815Z"
   },
   {
    "duration": 5,
    "start_time": "2025-04-30T23:41:56.823Z"
   },
   {
    "duration": 8,
    "start_time": "2025-04-30T23:41:56.830Z"
   },
   {
    "duration": 76,
    "start_time": "2025-04-30T23:41:56.839Z"
   },
   {
    "duration": 84809,
    "start_time": "2025-04-30T23:41:56.917Z"
   },
   {
    "duration": 185,
    "start_time": "2025-04-30T23:43:21.728Z"
   },
   {
    "duration": 4,
    "start_time": "2025-04-30T23:43:21.915Z"
   },
   {
    "duration": 35651,
    "start_time": "2025-04-30T23:43:21.922Z"
   },
   {
    "duration": 404,
    "start_time": "2025-04-30T23:43:57.576Z"
   },
   {
    "duration": 60830,
    "start_time": "2025-04-30T23:43:57.982Z"
   },
   {
    "duration": 5,
    "start_time": "2025-04-30T23:44:58.818Z"
   },
   {
    "duration": 1023094,
    "start_time": "2025-04-30T23:44:58.825Z"
   },
   {
    "duration": 96503,
    "start_time": "2025-05-01T00:02:01.921Z"
   },
   {
    "duration": 9,
    "start_time": "2025-05-01T00:03:38.426Z"
   },
   {
    "duration": 31700,
    "start_time": "2025-05-01T00:03:38.437Z"
   },
   {
    "duration": 103937,
    "start_time": "2025-05-01T00:18:29.076Z"
   },
   {
    "duration": 409,
    "start_time": "2025-05-01T00:22:25.193Z"
   },
   {
    "duration": 77,
    "start_time": "2025-05-01T00:22:39.631Z"
   },
   {
    "duration": 4,
    "start_time": "2025-05-01T00:25:45.760Z"
   },
   {
    "duration": 760410,
    "start_time": "2025-05-01T00:25:47.806Z"
   },
   {
    "duration": 57674,
    "start_time": "2025-05-01T00:38:44.865Z"
   },
   {
    "duration": 29349,
    "start_time": "2025-05-01T00:57:44.067Z"
   }
  ],
  "kernelspec": {
   "display_name": "base",
   "language": "python",
   "name": "python3"
  },
  "language_info": {
   "codemirror_mode": {
    "name": "ipython",
    "version": 3
   },
   "file_extension": ".py",
   "mimetype": "text/x-python",
   "name": "python",
   "nbconvert_exporter": "python",
   "pygments_lexer": "ipython3",
   "version": "3.11.7"
  },
  "toc": {
   "base_numbering": 1,
   "nav_menu": {},
   "number_sections": true,
   "sideBar": true,
   "skip_h1_title": true,
   "title_cell": "Table of Contents",
   "title_sidebar": "Contents",
   "toc_cell": false,
   "toc_position": {},
   "toc_section_display": true,
   "toc_window_display": false
  }
 },
 "nbformat": 4,
 "nbformat_minor": 2
}
